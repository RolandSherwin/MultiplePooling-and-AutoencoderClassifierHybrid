{
  "nbformat": 4,
  "nbformat_minor": 2,
  "metadata": {
    "orig_nbformat": 4,
    "language_info": {
      "name": "python",
      "version": "3.7.9",
      "mimetype": "text/x-python",
      "codemirror_mode": {
        "name": "ipython",
        "version": 3
      },
      "pygments_lexer": "ipython3",
      "nbconvert_exporter": "python",
      "file_extension": ".py"
    },
    "kernelspec": {
      "name": "python3",
      "display_name": "Python 3.7.9 64-bit ('ml': conda)"
    },
    "interpreter": {
      "hash": "6b3ca784da768489958501c88883cb0bea2209d6cbfeece4e115b49d370e2f5b"
    },
    "colab": {
      "name": "02-autoencoder-classifier-hybrid.ipynb",
      "provenance": []
    }
  },
  "cells": [
    {
      "cell_type": "markdown",
      "source": [
        "# Autoencoder Classifier Hybrid Model\n",
        "Autoencoders are artificial neural networks capable of learning dense representations of the input data, called **latent representation or codings,** without any supervision. These latent representation have much lower dimensionality and encode the different features of the input data. Thus, we can use this latent representation to do different tasks with much less computational load. In this notebook, let's take the encoder part of the Autoencoder and use it to predict the Sentiment of a IMDB Review."
      ],
      "metadata": {}
    },
    {
      "cell_type": "code",
      "execution_count": 1,
      "source": [
        "import os\r\n",
        "import re\r\n",
        "import itertools\r\n",
        "import numpy as np\r\n",
        "import pandas as pd\r\n",
        "import tensorflow as tf\r\n",
        "import tensorflow.keras as keras\r\n",
        "import spacy\r\n",
        "from utils.plotting import HistoryPlotter\r\n",
        "\r\n",
        "SEED = 42\r\n",
        "np.random.seed(SEED)"
      ],
      "outputs": [],
      "metadata": {
        "id": "3rZvcg02asS_"
      }
    },
    {
      "cell_type": "markdown",
      "source": [
        "# Preprocessing\n",
        "The dataset contains the review in the \"review\" column and the sentiment in the \"sentiment\" column. Let's load the dataset and convert the sentiment column into integers of 0 if the review is positive and 1 if the review is negative. Also let's split the dataset for Training, Validation and Testing. The HTML tags in the input data are also removed."
      ],
      "metadata": {}
    },
    {
      "cell_type": "code",
      "execution_count": 2,
      "source": [
        "dataset = pd.read_csv(os.path.expanduser(\"~\\Downloads\\datasets\\IMDB-Dataset.csv\"))\r\n",
        "dataset['sentiment'] = dataset['sentiment'].map(lambda label: 0 if label=='positive' else 1)\r\n",
        "# dataset = pd.read_csv(\"/content/drive/MyDrive/IMDB-Dataset.csv\")\r\n",
        "train_ae = dataset.iloc[:44000, 0]\r\n",
        "val_ae = dataset.iloc[44000:47000, 0]\r\n",
        "test_ae = dataset.iloc[47000:, 0]\r\n",
        "\r\n",
        "train_y = dataset.iloc[:44000, 1]\r\n",
        "val_y = dataset.iloc[44000:47000, 1]\r\n",
        "test_y = dataset.iloc[47000:, 1]\r\n",
        "\r\n",
        "print(train_ae.head())\r\n",
        "print(\"\\n\", train_y.head())"
      ],
      "outputs": [
        {
          "output_type": "stream",
          "name": "stdout",
          "text": [
            "0    One of the other reviewers has mentioned that ...\n",
            "1    A wonderful little production. <br /><br />The...\n",
            "2    I thought this was a wonderful way to spend ti...\n",
            "3    Basically there's a family where a little boy ...\n",
            "4    Petter Mattei's \"Love in the Time of Money\" is...\n",
            "Name: review, dtype: object\n",
            "\n",
            " 0    0\n",
            "1    0\n",
            "2    0\n",
            "3    1\n",
            "4    0\n",
            "Name: sentiment, dtype: int64\n"
          ]
        }
      ],
      "metadata": {
        "colab": {
          "base_uri": "https://localhost:8080/"
        },
        "id": "_xs_8L6AasTF",
        "outputId": "49593a8b-79c2-4952-a338-e05f08775046"
      }
    },
    {
      "cell_type": "code",
      "execution_count": 3,
      "source": [
        "print(train_ae[1][:190])\r\n",
        "html_re = re.compile(r'<[^>]+>')\r\n",
        "train_ae = train_ae.replace(html_re, \"\", regex=True)\r\n",
        "val_ae = val_ae.replace(html_re, \"\", regex=True)\r\n",
        "test_ae = test_ae.replace(html_re, \"\", regex=True)\r\n",
        "print(train_ae[1][:190])"
      ],
      "outputs": [
        {
          "output_type": "stream",
          "name": "stdout",
          "text": [
            "A wonderful little production. <br /><br />The filming technique is very unassuming- very old-time-BBC fashion and gives a comforting, and sometimes discomforting, sense of realism to the en\n",
            "A wonderful little production. The filming technique is very unassuming- very old-time-BBC fashion and gives a comforting, and sometimes discomforting, sense of realism to the entire piece. \n"
          ]
        }
      ],
      "metadata": {
        "colab": {
          "base_uri": "https://localhost:8080/"
        },
        "id": "L0yZjK3FasTJ",
        "outputId": "9d8f8bc5-0fd1-476b-d180-268e87e45069"
      }
    },
    {
      "cell_type": "markdown",
      "source": [
        "# Tokenization\r\n",
        "Tokenization is a way of separating a piece of text into smaller units called token, in this case into words. The purpose of tokenization is that we can use their corresponding token-id to represent the original text. We first create a vocabulary containing the counts of each word that occurs in the Training Set. Then we assign an index to the first 10000 most popular words, the rest of the words are given an index of 0, which is considered as an Out of Vocabulary word."
      ],
      "metadata": {
        "id": "l2bxq0KmasTI"
      }
    },
    {
      "cell_type": "code",
      "execution_count": 4,
      "source": [
        "tokenizer = keras.preprocessing.text.Tokenizer(filters='!\"#$%&()*+,-./:;<=>?@[\\\\]^_`{|}~\\t\\n')\r\n",
        "tokenizer.fit_on_texts(train_ae)\r\n",
        "print(\"Word Indices: \")\r\n",
        "print(dict(itertools.islice(tokenizer.index_word.items(), 20)), \"...\")\r\n",
        "print(f\"Word Count: {len(tokenizer.word_index)}\")"
      ],
      "outputs": [
        {
          "output_type": "stream",
          "name": "stdout",
          "text": [
            "Word Indices: \n",
            "{1: 'the', 2: 'and', 3: 'a', 4: 'of', 5: 'to', 6: 'is', 7: 'in', 8: 'it', 9: 'i', 10: 'this', 11: 'that', 12: 'was', 13: 'as', 14: 'for', 15: 'with', 16: 'movie', 17: 'but', 18: 'film', 19: 'on', 20: 'not'} ...\n",
            "Word Count: 119224\n"
          ]
        }
      ],
      "metadata": {
        "colab": {
          "base_uri": "https://localhost:8080/"
        },
        "id": "YhBsV23SasTK",
        "outputId": "68fc1b75-335d-4f49-ab7a-bc770839a3f3"
      }
    },
    {
      "cell_type": "code",
      "execution_count": 5,
      "source": [
        "MAX_NUM_TOKENS = 10000\r\n",
        "tokenizer.num_words = MAX_NUM_TOKENS\r\n",
        "train_ae = train_ae.apply(lambda x: tokenizer.texts_to_sequences([x])[0])\r\n",
        "val_ae = val_ae.apply(lambda x: tokenizer.texts_to_sequences([x])[0])\r\n",
        "test_ae = test_ae.apply(lambda x: tokenizer.texts_to_sequences([x])[0])\r\n",
        "\r\n",
        "train_ae.head()"
      ],
      "outputs": [
        {
          "output_type": "execute_result",
          "data": {
            "text/plain": [
              "0    [26, 4, 1, 79, 2077, 44, 1059, 11, 98, 146, 38...\n",
              "1    [3, 393, 119, 353, 1, 1350, 2947, 6, 51, 51, 1...\n",
              "2    [9, 190, 10, 12, 3, 393, 94, 5, 1133, 54, 19, ...\n",
              "3    [689, 221, 3, 232, 116, 3, 119, 426, 3595, 128...\n",
              "4    [111, 7, 1, 54, 4, 287, 6, 3, 2074, 1438, 18, ...\n",
              "Name: review, dtype: object"
            ]
          },
          "metadata": {},
          "execution_count": 5
        }
      ],
      "metadata": {
        "colab": {
          "base_uri": "https://localhost:8080/"
        },
        "id": "uqr3epOgasTL",
        "outputId": "b7e08bd2-4a6e-4bcb-96a2-cd9603ccfbf2"
      }
    },
    {
      "cell_type": "markdown",
      "source": [
        "# Padding\n",
        "Since each review has variable lengths, we can pad the shorter reviews to a particular length and truncate longer reviews to be the same length. The length is taken to be 300. Also, we pad/truncate the end of each review since in English Language most of the important information is present at the start, thus if we were to truncate the start of the sentence, we might lose more info."
      ],
      "metadata": {
        "id": "u6OQJHMjasTM"
      }
    },
    {
      "cell_type": "code",
      "execution_count": 6,
      "source": [
        "print('sequence_length mean: ', train_ae.apply(lambda x: len(x)).mean())\r\n",
        "print('sequence_length median: ', train_ae.apply(lambda x: len(x)).median())\r\n",
        "print('sequence_length std deviation: ', np.sqrt(train_ae.apply(lambda x: len(x)).var()))\r\n",
        "MAX_SEQUENCE_LENGTH = 300 # mean + std deviation*0.5"
      ],
      "outputs": [
        {
          "output_type": "stream",
          "name": "stdout",
          "text": [
            "sequence_length mean:  217.23727272727274\n",
            "sequence_length median:  164.0\n",
            "sequence_length std deviation:  158.58784251928319\n"
          ]
        }
      ],
      "metadata": {
        "colab": {
          "base_uri": "https://localhost:8080/"
        },
        "id": "Ky6hzR38asTM",
        "outputId": "e15b0584-6c6a-4cec-ef7d-9db7b71bb3c8"
      }
    },
    {
      "cell_type": "code",
      "execution_count": 7,
      "source": [
        "train_ae = keras.preprocessing.sequence.pad_sequences(train_ae, maxlen=MAX_SEQUENCE_LENGTH, padding='post', truncating='post')\r\n",
        "val_ae = keras.preprocessing.sequence.pad_sequences(val_ae, maxlen=MAX_SEQUENCE_LENGTH, padding='post', truncating='post')\r\n",
        "test_ae = keras.preprocessing.sequence.pad_sequences(test_ae, maxlen=MAX_SEQUENCE_LENGTH, padding='post', truncating='post')\r\n",
        "print(train_ae)"
      ],
      "outputs": [
        {
          "output_type": "stream",
          "name": "stdout",
          "text": [
            "[[  26    4    1 ...    0    0    0]\n",
            " [   3  393  119 ...    0    0    0]\n",
            " [   9  190   10 ...    0    0    0]\n",
            " ...\n",
            " [   1 3047    5 ...  391    3  701]\n",
            " [ 528   10   26 ...    0    0    0]\n",
            " [   9  152   24 ...    0    0    0]]\n"
          ]
        }
      ],
      "metadata": {
        "colab": {
          "base_uri": "https://localhost:8080/"
        },
        "id": "lPEZS3vVasTN",
        "outputId": "1f612f8f-2381-4427-9ed2-4f37d962d55e"
      }
    },
    {
      "cell_type": "markdown",
      "source": [
        "# Word to Vector\n",
        "Now that each review is of the same length, the next step is to embed each of the index into unique vectors. We have 2 options in this step, using One Hot Encoders or using Word Embeddings. Since One Hot Encoders are really inefficient (size of vector = vocabulary size) and they don't have any relationship between the words, we will go with pretrained word embeddings. We will use Pretrained Models from the Spacy library for this."
      ],
      "metadata": {
        "id": "j4zFELEFasTO"
      }
    },
    {
      "cell_type": "code",
      "execution_count": 8,
      "source": [
        "word2vec_model = spacy.load(\"en_core_web_sm\")\r\n",
        "\r\n",
        "df_index_word = pd.Series(tokenizer.index_word) # Get all the words in the vocabulary\r\n",
        "df_index_word = df_index_word[:MAX_NUM_TOKENS-1]\r\n",
        "df_index_word = pd.Series([\"temp_oov_word\"]).append(df_index_word) # Add a temporary row for oov words\r\n",
        "df_index_word = df_index_word.reset_index() # New column for token_id\r\n",
        "df_index_word.columns = ['token_id', 'token']\r\n",
        "\r\n",
        "df_index_word['word2vec'] = df_index_word.token.apply(lambda x: word2vec_model(x).vector) # Embedding for each word\r\n",
        "df_index_word.at[0, \"word2vec\"] = np.zeros_like(df_index_word.at[0, \"word2vec\"]) # Replace the embedding for \"temp_oov_word\" with 0s\r\n",
        "df_index_word.head()"
      ],
      "outputs": [
        {
          "output_type": "execute_result",
          "data": {
            "text/html": [
              "<div>\n",
              "<style scoped>\n",
              "    .dataframe tbody tr th:only-of-type {\n",
              "        vertical-align: middle;\n",
              "    }\n",
              "\n",
              "    .dataframe tbody tr th {\n",
              "        vertical-align: top;\n",
              "    }\n",
              "\n",
              "    .dataframe thead th {\n",
              "        text-align: right;\n",
              "    }\n",
              "</style>\n",
              "<table border=\"1\" class=\"dataframe\">\n",
              "  <thead>\n",
              "    <tr style=\"text-align: right;\">\n",
              "      <th></th>\n",
              "      <th>token_id</th>\n",
              "      <th>token</th>\n",
              "      <th>word2vec</th>\n",
              "    </tr>\n",
              "  </thead>\n",
              "  <tbody>\n",
              "    <tr>\n",
              "      <th>0</th>\n",
              "      <td>0</td>\n",
              "      <td>temp_oov_word</td>\n",
              "      <td>[0.0, 0.0, 0.0, 0.0, 0.0, 0.0, 0.0, 0.0, 0.0, ...</td>\n",
              "    </tr>\n",
              "    <tr>\n",
              "      <th>1</th>\n",
              "      <td>1</td>\n",
              "      <td>the</td>\n",
              "      <td>[-0.2032743, -0.4009009, -0.73730505, 0.536398...</td>\n",
              "    </tr>\n",
              "    <tr>\n",
              "      <th>2</th>\n",
              "      <td>2</td>\n",
              "      <td>and</td>\n",
              "      <td>[-0.9291044, -0.13172856, -0.814826, 0.6040276...</td>\n",
              "    </tr>\n",
              "    <tr>\n",
              "      <th>3</th>\n",
              "      <td>3</td>\n",
              "      <td>a</td>\n",
              "      <td>[0.02819018, 0.009864252, -0.095220566, 0.5522...</td>\n",
              "    </tr>\n",
              "    <tr>\n",
              "      <th>4</th>\n",
              "      <td>4</td>\n",
              "      <td>of</td>\n",
              "      <td>[-1.1193825, 0.18575507, -0.59173, -0.4724092,...</td>\n",
              "    </tr>\n",
              "  </tbody>\n",
              "</table>\n",
              "</div>"
            ],
            "text/plain": [
              "   token_id          token                                           word2vec\n",
              "0         0  temp_oov_word  [0.0, 0.0, 0.0, 0.0, 0.0, 0.0, 0.0, 0.0, 0.0, ...\n",
              "1         1            the  [-0.2032743, -0.4009009, -0.73730505, 0.536398...\n",
              "2         2            and  [-0.9291044, -0.13172856, -0.814826, 0.6040276...\n",
              "3         3              a  [0.02819018, 0.009864252, -0.095220566, 0.5522...\n",
              "4         4             of  [-1.1193825, 0.18575507, -0.59173, -0.4724092,..."
            ]
          },
          "metadata": {},
          "execution_count": 8
        }
      ],
      "metadata": {
        "colab": {
          "base_uri": "https://localhost:8080/"
        },
        "id": "4IQSBGYsasTP",
        "outputId": "1c74bf68-4879-4e0c-c409-f17b8fa8d5de"
      }
    },
    {
      "cell_type": "code",
      "execution_count": 9,
      "source": [
        "embedding_matrix = np.array([vec for vec in df_index_word.word2vec.values])\r\n",
        "print(embedding_matrix.shape) # MAX_NUM_TOKENS x vector dim \r\n",
        "embedding_matrix[0:3, :5]"
      ],
      "outputs": [
        {
          "output_type": "stream",
          "name": "stdout",
          "text": [
            "(10000, 96)\n"
          ]
        },
        {
          "output_type": "execute_result",
          "data": {
            "text/plain": [
              "array([[ 0.        ,  0.        ,  0.        ,  0.        ,  0.        ],\n",
              "       [-0.2032743 , -0.4009009 , -0.73730505,  0.5363982 ,  0.3764372 ],\n",
              "       [-0.9291044 , -0.13172856, -0.814826  ,  0.6040276 , -0.67340827]],\n",
              "      dtype=float32)"
            ]
          },
          "metadata": {},
          "execution_count": 9
        }
      ],
      "metadata": {
        "colab": {
          "base_uri": "https://localhost:8080/"
        },
        "id": "GjIg_qvLasTP",
        "outputId": "48da28d9-1024-4b41-aa6f-f592a7bac5fb"
      }
    },
    {
      "cell_type": "code",
      "execution_count": 10,
      "source": [
        "# MAX_NUM_TOKENS = 20000\r\n",
        "# MAX_SEQUENCE_LENGTH = 300\r\n",
        "EMBEDDING_DIM = embedding_matrix.shape[1] # 96\r\n",
        "embedding_layer = keras.layers.Embedding(\r\n",
        "    input_dim=MAX_NUM_TOKENS,\r\n",
        "    output_dim=EMBEDDING_DIM,\r\n",
        "    embeddings_initializer=keras.initializers.Constant(embedding_matrix),\r\n",
        "    input_length=MAX_SEQUENCE_LENGTH,\r\n",
        "    mask_zero=True,\r\n",
        "    trainable=False)\r\n",
        "\r\n",
        "# test\r\n",
        "embedding_result = embedding_layer(inputs=train_ae[0])\r\n",
        "print(embedding_result.shape) # MAX_SEQUENCE_LENGTH x EMBEDDING_DIM\r\n",
        "print(\"Embeddings of the first 5 words (each vector is restricted to size 5)\")\r\n",
        "print(train_ae[0][:5])\r\n",
        "print(embedding_result[:5, :5]) \r\n",
        "\r\n",
        "train_ae = embedding_layer(inputs=train_ae)\r\n",
        "val_ae = embedding_layer(inputs=val_ae)\r\n",
        "test_ae = embedding_layer(inputs=test_ae)"
      ],
      "outputs": [
        {
          "output_type": "stream",
          "name": "stdout",
          "text": [
            "(300, 96)\n",
            "Embeddings of the first 5 words (each vector is restricted to size 5)\n",
            "[  26    4    1   79 2077]\n",
            "tf.Tensor(\n",
            "[[ 0.49959356  0.704657    0.4497372   0.32913145  0.01701519]\n",
            " [-1.1193825   0.18575507 -0.59173    -0.4724092   0.04607756]\n",
            " [-0.2032743  -0.4009009  -0.73730505  0.5363982   0.3764372 ]\n",
            " [-0.33528453 -0.5446908   0.7285543  -0.51831293  0.10952553]\n",
            " [-0.39640257  0.09997782 -0.0515418   0.10987999  0.6886112 ]], shape=(5, 5), dtype=float32)\n"
          ]
        }
      ],
      "metadata": {
        "colab": {
          "base_uri": "https://localhost:8080/"
        },
        "id": "iCnrIUeOasTQ",
        "outputId": "02685cab-4801-4816-d972-96601ec52ec8"
      }
    },
    {
      "cell_type": "markdown",
      "source": [
        "# Convolutional Autoencoder\n",
        "An Autoencoder is built using Conv1D Layers with MaxPooling in the Encoder and Conv1DTranspose and BatchNormalization Layers in the Decoder. Each sample of length $(300 \\times 96)$ is reduces to a latent representation of $(50 \\times 1)$ which hopefully captures all the meaningful data in the input. This representation is then used to reconstruct the input. "
      ],
      "metadata": {}
    },
    {
      "cell_type": "code",
      "execution_count": 11,
      "source": [
        "conv_encoder = keras.models.Sequential([\r\n",
        "    keras.layers.Conv1D(filters=96, kernel_size=8, strides=2, input_shape=[MAX_SEQUENCE_LENGTH, EMBEDDING_DIM]),\r\n",
        "    keras.layers.MaxPool1D(pool_size=2),\r\n",
        "    keras.layers.Activation('relu'),\r\n",
        "    \r\n",
        "    keras.layers.Conv1D(filters=128, kernel_size=16, strides=1),\r\n",
        "    keras.layers.MaxPool1D(pool_size=4),\r\n",
        "    keras.layers.Activation('relu'),\r\n",
        "    \r\n",
        "    keras.layers.Conv1D(filters=50, kernel_size=14),\r\n",
        "    keras.layers.Reshape([50])\r\n",
        "])\r\n",
        "conv_encoder.summary()\r\n",
        "conv_decoder = keras.models.Sequential([\r\n",
        "    # kernel size and strides are chosen such that we get 300x96 = 28800 = 180x160 size.\r\n",
        "    keras.layers.Reshape([50,1], input_shape=[50]),\r\n",
        "    keras.layers.Conv1DTranspose(64, kernel_size=8, padding='valid', activation='linear', input_shape=[1,50]),\r\n",
        "    keras.layers.BatchNormalization(),\r\n",
        "    keras.layers.Conv1DTranspose(128, kernel_size=32, strides=2, padding='valid', activation='linear'),\r\n",
        "    keras.layers.BatchNormalization(),\r\n",
        "    keras.layers.Conv1DTranspose(160, kernel_size=37, strides=1, padding='valid', activation='linear'),\r\n",
        "    keras.layers.BatchNormalization(),\r\n",
        "    keras.layers.Reshape([MAX_SEQUENCE_LENGTH, EMBEDDING_DIM])\r\n",
        "])\r\n",
        "conv_decoder.summary()\r\n",
        "conv_ae = keras.models.Sequential([conv_encoder, conv_decoder])"
      ],
      "outputs": [
        {
          "output_type": "stream",
          "name": "stdout",
          "text": [
            "Model: \"sequential\"\n",
            "_________________________________________________________________\n",
            "Layer (type)                 Output Shape              Param #   \n",
            "=================================================================\n",
            "conv1d (Conv1D)              (None, 147, 96)           73824     \n",
            "_________________________________________________________________\n",
            "max_pooling1d (MaxPooling1D) (None, 73, 96)            0         \n",
            "_________________________________________________________________\n",
            "activation (Activation)      (None, 73, 96)            0         \n",
            "_________________________________________________________________\n",
            "conv1d_1 (Conv1D)            (None, 58, 128)           196736    \n",
            "_________________________________________________________________\n",
            "max_pooling1d_1 (MaxPooling1 (None, 14, 128)           0         \n",
            "_________________________________________________________________\n",
            "activation_1 (Activation)    (None, 14, 128)           0         \n",
            "_________________________________________________________________\n",
            "conv1d_2 (Conv1D)            (None, 1, 50)             89650     \n",
            "_________________________________________________________________\n",
            "reshape (Reshape)            (None, 50)                0         \n",
            "=================================================================\n",
            "Total params: 360,210\n",
            "Trainable params: 360,210\n",
            "Non-trainable params: 0\n",
            "_________________________________________________________________\n",
            "Model: \"sequential_1\"\n",
            "_________________________________________________________________\n",
            "Layer (type)                 Output Shape              Param #   \n",
            "=================================================================\n",
            "reshape_1 (Reshape)          (None, 50, 1)             0         \n",
            "_________________________________________________________________\n",
            "conv1d_transpose (Conv1DTran (None, 57, 64)            576       \n",
            "_________________________________________________________________\n",
            "batch_normalization (BatchNo (None, 57, 64)            256       \n",
            "_________________________________________________________________\n",
            "conv1d_transpose_1 (Conv1DTr (None, 144, 128)          262272    \n",
            "_________________________________________________________________\n",
            "batch_normalization_1 (Batch (None, 144, 128)          512       \n",
            "_________________________________________________________________\n",
            "conv1d_transpose_2 (Conv1DTr (None, 180, 160)          757920    \n",
            "_________________________________________________________________\n",
            "batch_normalization_2 (Batch (None, 180, 160)          640       \n",
            "_________________________________________________________________\n",
            "reshape_2 (Reshape)          (None, 300, 96)           0         \n",
            "=================================================================\n",
            "Total params: 1,022,176\n",
            "Trainable params: 1,021,472\n",
            "Non-trainable params: 704\n",
            "_________________________________________________________________\n"
          ]
        }
      ],
      "metadata": {}
    },
    {
      "cell_type": "code",
      "execution_count": 12,
      "source": [
        "conv_ae.compile(optimizer='adam', loss='mse')\r\n",
        "conv_ae_history = conv_ae.fit(x=train_ae, y=train_ae, epochs=20, batch_size=256, validation_data=(val_ae, val_ae))"
      ],
      "outputs": [
        {
          "output_type": "stream",
          "name": "stdout",
          "text": [
            "Epoch 1/20\n",
            "172/172 [==============================] - 40s 56ms/step - loss: 0.8150 - val_loss: 0.5757\n",
            "Epoch 2/20\n",
            "172/172 [==============================] - 9s 52ms/step - loss: 0.5847 - val_loss: 0.4714\n",
            "Epoch 3/20\n",
            "172/172 [==============================] - 9s 54ms/step - loss: 0.4339 - val_loss: 0.3652\n",
            "Epoch 4/20\n",
            "172/172 [==============================] - 9s 54ms/step - loss: 0.3342 - val_loss: 0.2872\n",
            "Epoch 5/20\n",
            "172/172 [==============================] - 9s 54ms/step - loss: 0.2720 - val_loss: 0.2407\n",
            "Epoch 6/20\n",
            "172/172 [==============================] - 9s 54ms/step - loss: 0.2358 - val_loss: 0.2217\n",
            "Epoch 7/20\n",
            "172/172 [==============================] - 9s 54ms/step - loss: 0.2164 - val_loss: 0.2092\n",
            "Epoch 8/20\n",
            "172/172 [==============================] - 9s 54ms/step - loss: 0.2068 - val_loss: 0.2040\n",
            "Epoch 9/20\n",
            "172/172 [==============================] - 9s 54ms/step - loss: 0.2025 - val_loss: 0.2015\n",
            "Epoch 10/20\n",
            "172/172 [==============================] - 9s 54ms/step - loss: 0.2007 - val_loss: 0.2007\n",
            "Epoch 11/20\n",
            "172/172 [==============================] - 9s 54ms/step - loss: 0.2001 - val_loss: 0.2004\n",
            "Epoch 12/20\n",
            "172/172 [==============================] - 9s 52ms/step - loss: 0.1999 - val_loss: 0.2002\n",
            "Epoch 13/20\n",
            "172/172 [==============================] - 9s 54ms/step - loss: 0.1998 - val_loss: 0.2002\n",
            "Epoch 14/20\n",
            "172/172 [==============================] - 9s 54ms/step - loss: 0.1998 - val_loss: 0.2001\n",
            "Epoch 15/20\n",
            "172/172 [==============================] - 9s 54ms/step - loss: 0.1997 - val_loss: 0.2001\n",
            "Epoch 16/20\n",
            "172/172 [==============================] - 9s 54ms/step - loss: 0.1997 - val_loss: 0.2001\n",
            "Epoch 17/20\n",
            "172/172 [==============================] - 9s 54ms/step - loss: 0.1997 - val_loss: 0.2001\n",
            "Epoch 18/20\n",
            "172/172 [==============================] - 9s 54ms/step - loss: 0.1997 - val_loss: 0.2001\n",
            "Epoch 19/20\n",
            "172/172 [==============================] - 9s 54ms/step - loss: 0.1997 - val_loss: 0.2001\n",
            "Epoch 20/20\n",
            "172/172 [==============================] - 9s 54ms/step - loss: 0.1997 - val_loss: 0.2001\n"
          ]
        }
      ],
      "metadata": {}
    },
    {
      "cell_type": "code",
      "execution_count": 14,
      "source": [
        "print(f\"Test Set metrics and Training History:\")\r\n",
        "conv_ae.evaluate(x=test_ae, y=test_ae)\r\n",
        "np.save(\"./models/conv_ae.npy\", conv_ae_history.history)\r\n",
        "# conv_ae_history = np.load(\"./models/conv_ae.npy\", allow_pickle='TRUE').item()\r\n",
        "conv_ae_plot = HistoryPlotter(history=conv_ae_history.history, accuracy_line=None, max_y_lim=[0.5, 1])\r\n",
        "conv_ae_plot.all(row_col=[1,0])"
      ],
      "outputs": [
        {
          "output_type": "stream",
          "name": "stdout",
          "text": [
            "Test Set metrics and Training History:\n",
            "94/94 [==============================] - 0s 5ms/step - loss: 0.1990\n"
          ]
        },
        {
          "output_type": "display_data",
          "data": {
            "image/png": "[encoded data removed]",
            "text/plain": [
              "<Figure size 432x288 with 1 Axes>"
            ]
          },
          "metadata": {
            "needs_background": "light"
          }
        }
      ],
      "metadata": {}
    },
    {
      "cell_type": "markdown",
      "source": [
        "# Pre Trained Classifier\n",
        "The Encoder is fitted with a few dense layers that can be used for classification."
      ],
      "metadata": {}
    },
    {
      "cell_type": "code",
      "execution_count": 18,
      "source": [
        "encoder_classifier = keras.models.clone_model(conv_encoder)\r\n",
        "encoder_classifier.add(keras.layers.Dense(40, activation='selu', activity_regularizer='l2'))\r\n",
        "encoder_classifier.add(keras.layers.Dense(20, activation='selu', activity_regularizer='l2'))\r\n",
        "encoder_classifier.add(keras.layers.Dense(1, activation='sigmoid'))\r\n",
        "encoder_classifier.summary()"
      ],
      "outputs": [
        {
          "output_type": "stream",
          "name": "stdout",
          "text": [
            "Model: \"sequential\"\n",
            "_________________________________________________________________\n",
            "Layer (type)                 Output Shape              Param #   \n",
            "=================================================================\n",
            "conv1d (Conv1D)              (None, 147, 96)           73824     \n",
            "_________________________________________________________________\n",
            "max_pooling1d (MaxPooling1D) (None, 73, 96)            0         \n",
            "_________________________________________________________________\n",
            "activation (Activation)      (None, 73, 96)            0         \n",
            "_________________________________________________________________\n",
            "conv1d_1 (Conv1D)            (None, 58, 128)           196736    \n",
            "_________________________________________________________________\n",
            "max_pooling1d_1 (MaxPooling1 (None, 14, 128)           0         \n",
            "_________________________________________________________________\n",
            "activation_1 (Activation)    (None, 14, 128)           0         \n",
            "_________________________________________________________________\n",
            "conv1d_2 (Conv1D)            (None, 1, 50)             89650     \n",
            "_________________________________________________________________\n",
            "reshape (Reshape)            (None, 50)                0         \n",
            "_________________________________________________________________\n",
            "dense_3 (Dense)              (None, 40)                2040      \n",
            "_________________________________________________________________\n",
            "dense_4 (Dense)              (None, 20)                820       \n",
            "_________________________________________________________________\n",
            "dense_5 (Dense)              (None, 1)                 21        \n",
            "=================================================================\n",
            "Total params: 363,091\n",
            "Trainable params: 363,091\n",
            "Non-trainable params: 0\n",
            "_________________________________________________________________\n"
          ]
        }
      ],
      "metadata": {}
    },
    {
      "cell_type": "code",
      "execution_count": 19,
      "source": [
        "early_stopping = keras.callbacks.EarlyStopping(monitor=\"val_accuracy\", patience=8, verbose=1, restore_best_weights=True)\r\n",
        "encoder_classifier.compile(optimizer='adam', loss='binary_crossentropy', metrics='accuracy')\r\n",
        "encoder_classifier_history = encoder_classifier.fit(x=train_ae, y=tf.convert_to_tensor(train_y), epochs=30, batch_size=256, validation_data=(val_ae, tf.convert_to_tensor(val_y)), callbacks=[early_stopping])"
      ],
      "outputs": [
        {
          "output_type": "stream",
          "name": "stdout",
          "text": [
            "Epoch 1/30\n",
            "172/172 [==============================] - 5s 21ms/step - loss: 0.7508 - accuracy: 0.5066 - val_loss: 0.6920 - val_accuracy: 0.5223\n",
            "Epoch 2/30\n",
            "172/172 [==============================] - 4s 21ms/step - loss: 0.6437 - accuracy: 0.6328 - val_loss: 0.6058 - val_accuracy: 0.6783\n",
            "Epoch 3/30\n",
            "172/172 [==============================] - 3s 20ms/step - loss: 0.5539 - accuracy: 0.7282 - val_loss: 0.5724 - val_accuracy: 0.7140\n",
            "Epoch 4/30\n",
            "172/172 [==============================] - 3s 20ms/step - loss: 0.4758 - accuracy: 0.7879 - val_loss: 0.5370 - val_accuracy: 0.7327\n",
            "Epoch 5/30\n",
            "172/172 [==============================] - 3s 20ms/step - loss: 0.4065 - accuracy: 0.8294 - val_loss: 0.5942 - val_accuracy: 0.7107\n",
            "Epoch 6/30\n",
            "172/172 [==============================] - 3s 20ms/step - loss: 0.3212 - accuracy: 0.8794 - val_loss: 0.6023 - val_accuracy: 0.7410\n",
            "Epoch 7/30\n",
            "172/172 [==============================] - 3s 20ms/step - loss: 0.2365 - accuracy: 0.9231 - val_loss: 0.7110 - val_accuracy: 0.7203\n",
            "Epoch 8/30\n",
            "172/172 [==============================] - 3s 20ms/step - loss: 0.1746 - accuracy: 0.9524 - val_loss: 0.7817 - val_accuracy: 0.7223\n",
            "Epoch 9/30\n",
            "172/172 [==============================] - 3s 20ms/step - loss: 0.1196 - accuracy: 0.9775 - val_loss: 0.8289 - val_accuracy: 0.7180\n",
            "Epoch 10/30\n",
            "172/172 [==============================] - 4s 21ms/step - loss: 0.0847 - accuracy: 0.9916 - val_loss: 0.8871 - val_accuracy: 0.7173\n",
            "Epoch 11/30\n",
            "172/172 [==============================] - 3s 20ms/step - loss: 0.0603 - accuracy: 0.9984 - val_loss: 0.8740 - val_accuracy: 0.7223\n",
            "Epoch 12/30\n",
            "172/172 [==============================] - 3s 20ms/step - loss: 0.0442 - accuracy: 1.0000 - val_loss: 0.8351 - val_accuracy: 0.7217\n",
            "Epoch 13/30\n",
            "172/172 [==============================] - 3s 20ms/step - loss: 0.0366 - accuracy: 1.0000 - val_loss: 0.8264 - val_accuracy: 0.7227\n",
            "Epoch 14/30\n",
            "172/172 [==============================] - 3s 20ms/step - loss: 0.0323 - accuracy: 1.0000 - val_loss: 0.8330 - val_accuracy: 0.7183\n",
            "Restoring model weights from the end of the best epoch.\n",
            "Epoch 00014: early stopping\n"
          ]
        }
      ],
      "metadata": {}
    },
    {
      "cell_type": "code",
      "execution_count": 20,
      "source": [
        "print(f\"Test Set metrics and Training History:\")\r\n",
        "encoder_classifier.evaluate(x=test_ae, y=tf.convert_to_tensor(test_y))\r\n",
        "np.save(\"./models/encoder_classifier.npy\", encoder_classifier_history.history)\r\n",
        "# encoder_classifier_history = np.load(\"./models/encoder_classifier.npy\", allow_pickle='TRUE').item()\r\n",
        "encoder_classifier_plot = HistoryPlotter(history=encoder_classifier_history.history, accuracy_line=None, max_y_lim=[0.5, 1])\r\n",
        "encoder_classifier_plot.all(row_col=[1,0])"
      ],
      "outputs": [
        {
          "output_type": "stream",
          "name": "stdout",
          "text": [
            "Test Set metrics and Training History:\n",
            "94/94 [==============================] - 0s 3ms/step - loss: 0.5336 - accuracy: 0.7613\n"
          ]
        },
        {
          "output_type": "display_data",
          "data": {
            "image/png": "[encoded data removed]",
            "text/plain": [
              "<Figure size 864x288 with 2 Axes>"
            ]
          },
          "metadata": {
            "needs_background": "light"
          }
        }
      ],
      "metadata": {}
    },
    {
      "cell_type": "markdown",
      "source": [
        "# Conclusion\r\n",
        "The final Test Set Evaluation shows that the model is not particularly good at classifying whether a review is positive or negative, this is caused due to the **overfitting** of the `encoder_classifier` model on the Training Set. Also, the final result is achieved after experimenting with various hyperparameters and with various different Layer. Conv2D Layers were also used instead of Conv1D, but the latter had a much better Validation Accuracy. If I were to do this experiment over again, I would first try a baseline model by learning the Word Embeddings instead of using pretrained ones and also write a custom Metric to view the performance of the `conv_ae` model."
      ],
      "metadata": {}
    }
  ]
}