{
  "nbformat": 4,
  "nbformat_minor": 2,
  "metadata": {
    "orig_nbformat": 4,
    "language_info": {
      "name": "python",
      "version": "3.7.9",
      "mimetype": "text/x-python",
      "codemirror_mode": {
        "name": "ipython",
        "version": 3
      },
      "pygments_lexer": "ipython3",
      "nbconvert_exporter": "python",
      "file_extension": ".py"
    },
    "kernelspec": {
      "name": "python3",
      "display_name": "Python 3.7.9 64-bit ('ml': conda)"
    },
    "interpreter": {
      "hash": "6b3ca784da768489958501c88883cb0bea2209d6cbfeece4e115b49d370e2f5b"
    },
    "colab": {
      "name": "02-autoencoder-classifier-hybrid.ipynb",
      "provenance": []
    }
  },
  "cells": [
    {
      "cell_type": "code",
      "execution_count": 1,
      "source": [
        "import os\r\n",
        "import re\r\n",
        "import itertools\r\n",
        "import numpy as np\r\n",
        "import pandas as pd\r\n",
        "import matplotlib.pyplot as plt\r\n",
        "%matplotlib inline\r\n",
        "import tensorflow as tf\r\n",
        "import tensorflow.keras as keras\r\n",
        "import spacy\r\n",
        "\r\n",
        "SEED = 42\r\n",
        "np.random.seed(SEED)\r\n",
        "AUTOTUNE = tf.data.AUTOTUNE"
      ],
      "outputs": [],
      "metadata": {
        "id": "3rZvcg02asS_"
      }
    },
    {
      "cell_type": "code",
      "execution_count": 2,
      "source": [
        "def convert_to_int(label):\r\n",
        "    if label == \"positive\":\r\n",
        "        return 1\r\n",
        "    elif label == \"negative\":\r\n",
        "        return 0\r\n",
        "    \r\n",
        "dataset = pd.read_csv(os.path.expanduser(\"~\\Downloads\\datasets\\IMDB-Dataset.csv\"))\r\n",
        "dataset['sentiment'] = dataset['sentiment'].map(convert_to_int)\r\n",
        "# dataset = pd.read_csv(\"/content/drive/MyDrive/IMDB-Dataset.csv\")\r\n",
        "train_ae = dataset.iloc[:44000, 0]\r\n",
        "val_ae = dataset.iloc[44000:47000, 0]\r\n",
        "test_ae = dataset.iloc[47000:, 0]\r\n",
        "\r\n",
        "train_y = dataset.iloc[:44000, 1]\r\n",
        "val_y = dataset.iloc[44000:47000, 1]\r\n",
        "test_y = dataset.iloc[47000:, 1]\r\n",
        "\r\n",
        "print(train_ae.head())\r\n",
        "print(\"\\n\", train_y.head())"
      ],
      "outputs": [
        {
          "output_type": "stream",
          "name": "stdout",
          "text": [
            "0    One of the other reviewers has mentioned that ...\n",
            "1    A wonderful little production. <br /><br />The...\n",
            "2    I thought this was a wonderful way to spend ti...\n",
            "3    Basically there's a family where a little boy ...\n",
            "4    Petter Mattei's \"Love in the Time of Money\" is...\n",
            "Name: review, dtype: object\n",
            "\n",
            " 0    1\n",
            "1    1\n",
            "2    1\n",
            "3    0\n",
            "4    1\n",
            "Name: sentiment, dtype: int64\n"
          ]
        }
      ],
      "metadata": {
        "colab": {
          "base_uri": "https://localhost:8080/"
        },
        "id": "_xs_8L6AasTF",
        "outputId": "49593a8b-79c2-4952-a338-e05f08775046"
      }
    },
    {
      "cell_type": "markdown",
      "source": [
        "# Tokenization"
      ],
      "metadata": {
        "id": "l2bxq0KmasTI"
      }
    },
    {
      "cell_type": "code",
      "execution_count": 3,
      "source": [
        "print(train_ae[1][:190])\r\n",
        "html_re = re.compile(r'<[^>]+>')\r\n",
        "train_ae = train_ae.replace(html_re, \"\", regex=True)\r\n",
        "print(train_ae[1][:190])"
      ],
      "outputs": [
        {
          "output_type": "stream",
          "name": "stdout",
          "text": [
            "A wonderful little production. <br /><br />The filming technique is very unassuming- very old-time-BBC fashion and gives a comforting, and sometimes discomforting, sense of realism to the en\n",
            "A wonderful little production. The filming technique is very unassuming- very old-time-BBC fashion and gives a comforting, and sometimes discomforting, sense of realism to the entire piece. \n"
          ]
        }
      ],
      "metadata": {
        "colab": {
          "base_uri": "https://localhost:8080/"
        },
        "id": "L0yZjK3FasTJ",
        "outputId": "9d8f8bc5-0fd1-476b-d180-268e87e45069"
      }
    },
    {
      "cell_type": "code",
      "execution_count": 4,
      "source": [
        "tokenizer = keras.preprocessing.text.Tokenizer(filters='!\"#$%&()*+,-./:;<=>?@[\\\\]^_`{|}~\\t\\n')\r\n",
        "tokenizer.fit_on_texts(train_ae)\r\n",
        "print(\"Word Indices: \")\r\n",
        "print(dict(itertools.islice(tokenizer.index_word.items(), 20)), \"...\")\r\n",
        "print(f\"Word Count: {len(tokenizer.word_index)}\")"
      ],
      "outputs": [
        {
          "output_type": "stream",
          "name": "stdout",
          "text": [
            "Word Indices: \n",
            "{1: 'the', 2: 'and', 3: 'a', 4: 'of', 5: 'to', 6: 'is', 7: 'in', 8: 'it', 9: 'i', 10: 'this', 11: 'that', 12: 'was', 13: 'as', 14: 'for', 15: 'with', 16: 'movie', 17: 'but', 18: 'film', 19: 'on', 20: 'not'} ...\n",
            "Word Count: 119224\n"
          ]
        }
      ],
      "metadata": {
        "colab": {
          "base_uri": "https://localhost:8080/"
        },
        "id": "YhBsV23SasTK",
        "outputId": "68fc1b75-335d-4f49-ab7a-bc770839a3f3"
      }
    },
    {
      "cell_type": "code",
      "execution_count": 5,
      "source": [
        "MAX_NUM_TOKENS = 20000\r\n",
        "tokenizer.num_words = MAX_NUM_TOKENS\r\n",
        "train_ae = train_ae.apply(lambda x: tokenizer.texts_to_sequences([x])[0])\r\n",
        "val_ae = val_ae.apply(lambda x: tokenizer.texts_to_sequences([x])[0])\r\n",
        "test_ae = test_ae.apply(lambda x: tokenizer.texts_to_sequences([x])[0])\r\n",
        "\r\n",
        "train_ae.head()"
      ],
      "outputs": [
        {
          "output_type": "execute_result",
          "data": {
            "text/plain": [
              "0    [26, 4, 1, 79, 2077, 44, 1059, 11, 98, 146, 38...\n",
              "1    [3, 393, 119, 353, 1, 1350, 2947, 6, 51, 18582...\n",
              "2    [9, 190, 10, 12, 3, 393, 94, 5, 1133, 54, 19, ...\n",
              "3    [689, 221, 3, 232, 116, 3, 119, 426, 3595, 128...\n",
              "4    [111, 7, 1, 54, 4, 287, 6, 3, 2074, 1438, 18, ...\n",
              "Name: review, dtype: object"
            ]
          },
          "metadata": {},
          "execution_count": 5
        }
      ],
      "metadata": {
        "colab": {
          "base_uri": "https://localhost:8080/"
        },
        "id": "uqr3epOgasTL",
        "outputId": "b7e08bd2-4a6e-4bcb-96a2-cd9603ccfbf2"
      }
    },
    {
      "cell_type": "markdown",
      "source": [
        "# Padding"
      ],
      "metadata": {
        "id": "u6OQJHMjasTM"
      }
    },
    {
      "cell_type": "code",
      "execution_count": 6,
      "source": [
        "print('sequence_length mean: ', train_ae.apply(lambda x: len(x)).mean())\r\n",
        "print('sequence_length median: ', train_ae.apply(lambda x: len(x)).median())\r\n",
        "print('sequence_length std deviation: ', np.sqrt(train_ae.apply(lambda x: len(x)).var()))\r\n",
        "MAX_SEQUENCE_LENGTH = 300 # mean + std deviation*0.5"
      ],
      "outputs": [
        {
          "output_type": "stream",
          "name": "stdout",
          "text": [
            "sequence_length mean:  224.09893181818182\n",
            "sequence_length median:  169.0\n",
            "sequence_length std deviation:  164.80941972297364\n"
          ]
        }
      ],
      "metadata": {
        "colab": {
          "base_uri": "https://localhost:8080/"
        },
        "id": "Ky6hzR38asTM",
        "outputId": "e15b0584-6c6a-4cec-ef7d-9db7b71bb3c8"
      }
    },
    {
      "cell_type": "code",
      "execution_count": 7,
      "source": [
        "train_ae = keras.preprocessing.sequence.pad_sequences(train_ae, maxlen=MAX_SEQUENCE_LENGTH, padding='post', truncating='post')\r\n",
        "val_ae = keras.preprocessing.sequence.pad_sequences(val_ae, maxlen=MAX_SEQUENCE_LENGTH, padding='post', truncating='post')\r\n",
        "test_ae = keras.preprocessing.sequence.pad_sequences(test_ae, maxlen=MAX_SEQUENCE_LENGTH, padding='post', truncating='post')\r\n",
        "print(train_ae)"
      ],
      "outputs": [
        {
          "output_type": "stream",
          "name": "stdout",
          "text": [
            "[[  26    4    1 ...  124 4081  485]\n",
            " [   3  393  119 ...    0    0    0]\n",
            " [   9  190   10 ...    0    0    0]\n",
            " ...\n",
            " [   1 3047    5 ...   15 2055    1]\n",
            " [ 528   10   26 ...    0    0    0]\n",
            " [   9  152   24 ...    0    0    0]]\n"
          ]
        }
      ],
      "metadata": {
        "colab": {
          "base_uri": "https://localhost:8080/"
        },
        "id": "lPEZS3vVasTN",
        "outputId": "1f612f8f-2381-4427-9ed2-4f37d962d55e"
      }
    },
    {
      "cell_type": "markdown",
      "source": [
        "# Word to Vector"
      ],
      "metadata": {
        "id": "j4zFELEFasTO"
      }
    },
    {
      "cell_type": "code",
      "execution_count": 8,
      "source": [
        "word2vec_model = spacy.load(\"en_core_web_sm\")\r\n",
        "\r\n",
        "df_index_word = pd.Series(tokenizer.index_word) # Get all the words in the vocabulary\r\n",
        "df_index_word = df_index_word[:MAX_NUM_TOKENS-1]\r\n",
        "df_index_word = pd.Series([\"temp_oov_word\"]).append(df_index_word) # Add a temporary row for oov words\r\n",
        "df_index_word = df_index_word.reset_index() # New column for token_id\r\n",
        "df_index_word.columns = ['token_id', 'token']\r\n",
        "\r\n",
        "\r\n",
        "df_index_word['word2vec'] = df_index_word.token.apply(lambda x: word2vec_model(x).vector) # Embedding for each word\r\n",
        "df_index_word.at[0, \"word2vec\"] = np.zeros_like(df_index_word.at[0, \"word2vec\"]) # Replace the embedding for \"temp_oov_word\" with 0s\r\n",
        "df_index_word.head()"
      ],
      "outputs": [
        {
          "output_type": "execute_result",
          "data": {
            "text/html": [
              "<div>\n",
              "<style scoped>\n",
              "    .dataframe tbody tr th:only-of-type {\n",
              "        vertical-align: middle;\n",
              "    }\n",
              "\n",
              "    .dataframe tbody tr th {\n",
              "        vertical-align: top;\n",
              "    }\n",
              "\n",
              "    .dataframe thead th {\n",
              "        text-align: right;\n",
              "    }\n",
              "</style>\n",
              "<table border=\"1\" class=\"dataframe\">\n",
              "  <thead>\n",
              "    <tr style=\"text-align: right;\">\n",
              "      <th></th>\n",
              "      <th>token_id</th>\n",
              "      <th>token</th>\n",
              "      <th>word2vec</th>\n",
              "    </tr>\n",
              "  </thead>\n",
              "  <tbody>\n",
              "    <tr>\n",
              "      <th>0</th>\n",
              "      <td>0</td>\n",
              "      <td>temp_oov_word</td>\n",
              "      <td>[0.0, 0.0, 0.0, 0.0, 0.0, 0.0, 0.0, 0.0, 0.0, ...</td>\n",
              "    </tr>\n",
              "    <tr>\n",
              "      <th>1</th>\n",
              "      <td>1</td>\n",
              "      <td>the</td>\n",
              "      <td>[-0.2032743, -0.4009009, -0.73730505, 0.536398...</td>\n",
              "    </tr>\n",
              "    <tr>\n",
              "      <th>2</th>\n",
              "      <td>2</td>\n",
              "      <td>and</td>\n",
              "      <td>[-0.9291044, -0.13172856, -0.814826, 0.6040276...</td>\n",
              "    </tr>\n",
              "    <tr>\n",
              "      <th>3</th>\n",
              "      <td>3</td>\n",
              "      <td>a</td>\n",
              "      <td>[0.02819018, 0.009864252, -0.095220566, 0.5522...</td>\n",
              "    </tr>\n",
              "    <tr>\n",
              "      <th>4</th>\n",
              "      <td>4</td>\n",
              "      <td>of</td>\n",
              "      <td>[-1.1193825, 0.18575507, -0.59173, -0.4724092,...</td>\n",
              "    </tr>\n",
              "  </tbody>\n",
              "</table>\n",
              "</div>"
            ],
            "text/plain": [
              "   token_id          token                                           word2vec\n",
              "0         0  temp_oov_word  [0.0, 0.0, 0.0, 0.0, 0.0, 0.0, 0.0, 0.0, 0.0, ...\n",
              "1         1            the  [-0.2032743, -0.4009009, -0.73730505, 0.536398...\n",
              "2         2            and  [-0.9291044, -0.13172856, -0.814826, 0.6040276...\n",
              "3         3              a  [0.02819018, 0.009864252, -0.095220566, 0.5522...\n",
              "4         4             of  [-1.1193825, 0.18575507, -0.59173, -0.4724092,..."
            ]
          },
          "metadata": {},
          "execution_count": 8
        }
      ],
      "metadata": {
        "colab": {
          "base_uri": "https://localhost:8080/"
        },
        "id": "4IQSBGYsasTP",
        "outputId": "1c74bf68-4879-4e0c-c409-f17b8fa8d5de"
      }
    },
    {
      "cell_type": "code",
      "execution_count": 9,
      "source": [
        "embedding_matrix = np.array([vec for vec in df_index_word.word2vec.values])\r\n",
        "print(embedding_matrix.shape) # MAX_NUM_TOKENS x vector dim \r\n",
        "embedding_matrix[0:3, :5]"
      ],
      "outputs": [
        {
          "output_type": "stream",
          "name": "stdout",
          "text": [
            "(20000, 96)\n"
          ]
        },
        {
          "output_type": "execute_result",
          "data": {
            "text/plain": [
              "array([[ 0.        ,  0.        ,  0.        ,  0.        ,  0.        ],\n",
              "       [-0.2032743 , -0.4009009 , -0.73730505,  0.5363982 ,  0.3764372 ],\n",
              "       [-0.9291044 , -0.13172856, -0.814826  ,  0.6040276 , -0.67340827]],\n",
              "      dtype=float32)"
            ]
          },
          "metadata": {},
          "execution_count": 9
        }
      ],
      "metadata": {
        "colab": {
          "base_uri": "https://localhost:8080/"
        },
        "id": "GjIg_qvLasTP",
        "outputId": "48da28d9-1024-4b41-aa6f-f592a7bac5fb"
      }
    },
    {
      "cell_type": "code",
      "execution_count": 10,
      "source": [
        "# MAX_NUM_TOKENS = 20000\r\n",
        "# MAX_SEQUENCE_LENGTH = 300\r\n",
        "EMBEDDING_DIM = embedding_matrix.shape[1] #96\r\n",
        "embedding_layer = keras.layers.Embedding(\r\n",
        "    input_dim=MAX_NUM_TOKENS,\r\n",
        "    output_dim=EMBEDDING_DIM,\r\n",
        "    embeddings_initializer=keras.initializers.Constant(embedding_matrix),\r\n",
        "    input_length=MAX_SEQUENCE_LENGTH,\r\n",
        "    mask_zero=True,\r\n",
        "    trainable=False)\r\n",
        "\r\n",
        "# test\r\n",
        "embedding_result = embedding_layer(inputs=train_ae[0])\r\n",
        "print(embedding_result.shape) # MAX_SEQUENCE_LENGTH x EMBEDDING_DIM\r\n",
        "print(\"Embeddings of the first 5 words (each vector is restricted to size 5)\")\r\n",
        "print(train_ae[0][:5])\r\n",
        "print(embedding_result[:5, :5]) \r\n",
        "\r\n",
        "train_ae = embedding_layer(inputs=train_ae)\r\n",
        "val_ae = embedding_layer(inputs=val_ae)\r\n",
        "test_ae = embedding_layer(inputs=test_ae)"
      ],
      "outputs": [
        {
          "output_type": "stream",
          "name": "stdout",
          "text": [
            "(300, 96)\n",
            "Embeddings of the first 5 words (each vector is restricted to size 5)\n",
            "[  26    4    1   79 2077]\n",
            "tf.Tensor(\n",
            "[[ 0.49959356  0.704657    0.4497372   0.32913145  0.01701519]\n",
            " [-1.1193825   0.18575507 -0.59173    -0.4724092   0.04607756]\n",
            " [-0.2032743  -0.4009009  -0.73730505  0.5363982   0.3764372 ]\n",
            " [-0.33528453 -0.5446908   0.7285543  -0.51831293  0.10952553]\n",
            " [-0.39640257  0.09997782 -0.0515418   0.10987999  0.6886112 ]], shape=(5, 5), dtype=float32)\n"
          ]
        }
      ],
      "metadata": {
        "colab": {
          "base_uri": "https://localhost:8080/"
        },
        "id": "iCnrIUeOasTQ",
        "outputId": "02685cab-4801-4816-d972-96601ec52ec8"
      }
    },
    {
      "cell_type": "code",
      "execution_count": 94,
      "source": [
        "conv_encoder = keras.models.Sequential([\r\n",
        "    keras.layers.Reshape([MAX_SEQUENCE_LENGTH, EMBEDDING_DIM, 1], input_shape=[MAX_SEQUENCE_LENGTH, EMBEDDING_DIM]),\r\n",
        "    keras.layers.Conv2D(filters=96, kernel_size=(8, EMBEDDING_DIM), strides=2), # \r\n",
        "    # keras.layers.MaxPool2D(pool_size=2),\r\n",
        "    keras.layers.Activation('selu'),\r\n",
        "    keras.layers.BatchNormalization(),\r\n",
        "    \r\n",
        "    keras.layers.Conv2D(filters=128, kernel_size=(32,1), strides=1),\r\n",
        "    # keras.layers.MaxPool2D(pool_size=4),\r\n",
        "    keras.layers.Activation('selu'),\r\n",
        "    keras.layers.BatchNormalization(),\r\n",
        "    \r\n",
        "    # try with just another conv2D, pool, activation layer without using fully conv layers.\r\n",
        "    keras.layers.Conv2D(filters=50, kernel_size=(116,1)), # fully convolutional layer, same kernel size as input size.\r\n",
        "    # keras.layers.BatchNormalization(),\r\n",
        "    # keras.layers.Conv2D(filters=50, kernel_size=(1,1)), # fully conv layer\r\n",
        "    keras.layers.Reshape([50])\r\n",
        "])\r\n",
        "# conv_encoder.summary()\r\n",
        "conv_decoder = keras.models.Sequential([\r\n",
        "    # kernel size and strides are chosen such that we get 300x96 = 28800 = 180x160 size.\r\n",
        "    keras.layers.Reshape([1,1,50], input_shape=[50]),\r\n",
        "    keras.layers.Conv2DTranspose(64, kernel_size=4, strides=2, padding='valid', input_shape=[1,1,50]),\r\n",
        "    keras.layers.BatchNormalization(),\r\n",
        "    keras.layers.Conv2DTranspose(32, kernel_size=16, strides=4, padding='valid', activation='selu'),\r\n",
        "    keras.layers.BatchNormalization(),\r\n",
        "    keras.layers.Conv2DTranspose(16, kernel_size=26, strides=2, padding='valid', activation='selu'),\r\n",
        "    keras.layers.BatchNormalization(),\r\n",
        "    keras.layers.Conv2DTranspose(1, kernel_size=(22, 1), strides=2, padding='valid', activation='linear'), \r\n",
        "    keras.layers.Reshape([MAX_SEQUENCE_LENGTH, EMBEDDING_DIM])\r\n",
        "])\r\n",
        "conv_ae = keras.models.Sequential([conv_encoder, conv_decoder])\r\n",
        "for l in conv_ae.layers:\r\n",
        "    l.summary()"
      ],
      "outputs": [
        {
          "output_type": "stream",
          "name": "stdout",
          "text": [
            "Model: \"sequential_107\"\n",
            "_________________________________________________________________\n",
            "Layer (type)                 Output Shape              Param #   \n",
            "=================================================================\n",
            "reshape_122 (Reshape)        (None, 300, 96, 1)        0         \n",
            "_________________________________________________________________\n",
            "conv2d_126 (Conv2D)          (None, 147, 1, 96)        73824     \n",
            "_________________________________________________________________\n",
            "activation_83 (Activation)   (None, 147, 1, 96)        0         \n",
            "_________________________________________________________________\n",
            "batch_normalization_174 (Bat (None, 147, 1, 96)        384       \n",
            "_________________________________________________________________\n",
            "conv2d_127 (Conv2D)          (None, 116, 1, 128)       393344    \n",
            "_________________________________________________________________\n",
            "activation_84 (Activation)   (None, 116, 1, 128)       0         \n",
            "_________________________________________________________________\n",
            "batch_normalization_175 (Bat (None, 116, 1, 128)       512       \n",
            "_________________________________________________________________\n",
            "conv2d_128 (Conv2D)          (None, 1, 1, 50)          742450    \n",
            "_________________________________________________________________\n",
            "reshape_123 (Reshape)        (None, 50)                0         \n",
            "=================================================================\n",
            "Total params: 1,210,514\n",
            "Trainable params: 1,210,066\n",
            "Non-trainable params: 448\n",
            "_________________________________________________________________\n",
            "Model: \"sequential_108\"\n",
            "_________________________________________________________________\n",
            "Layer (type)                 Output Shape              Param #   \n",
            "=================================================================\n",
            "reshape_124 (Reshape)        (None, 1, 1, 50)          0         \n",
            "_________________________________________________________________\n",
            "conv2d_transpose_112 (Conv2D (None, 4, 4, 64)          51264     \n",
            "_________________________________________________________________\n",
            "batch_normalization_176 (Bat (None, 4, 4, 64)          256       \n",
            "_________________________________________________________________\n",
            "conv2d_transpose_113 (Conv2D (None, 28, 28, 32)        524320    \n",
            "_________________________________________________________________\n",
            "batch_normalization_177 (Bat (None, 28, 28, 32)        128       \n",
            "_________________________________________________________________\n",
            "conv2d_transpose_114 (Conv2D (None, 80, 80, 16)        346128    \n",
            "_________________________________________________________________\n",
            "batch_normalization_178 (Bat (None, 80, 80, 16)        64        \n",
            "_________________________________________________________________\n",
            "conv2d_transpose_115 (Conv2D (None, 180, 160, 1)       353       \n",
            "_________________________________________________________________\n",
            "reshape_125 (Reshape)        (None, 300, 96)           0         \n",
            "=================================================================\n",
            "Total params: 922,513\n",
            "Trainable params: 922,289\n",
            "Non-trainable params: 224\n",
            "_________________________________________________________________\n"
          ]
        }
      ],
      "metadata": {}
    },
    {
      "cell_type": "code",
      "execution_count": 95,
      "source": [
        "early_stopping = keras.callbacks.EarlyStopping(monitor=\"val_loss\", patience=3, verbose=1, restore_best_weights=True,)\r\n",
        "conv_ae.compile(optimizer='adam', loss='mse') # metrics='accuracy' is useful only when doing classification\r\n",
        "conv_ae.fit(x=train_ae, y=train_ae, epochs=3, batch_size=256, validation_data=(val_ae, val_ae))"
      ],
      "outputs": [
        {
          "output_type": "stream",
          "name": "stdout",
          "text": [
            "Epoch 1/3\n",
            "172/172 [==============================] - 30s 165ms/step - loss: 0.2277 - val_loss: 0.2209\n",
            "Epoch 2/3\n",
            "172/172 [==============================] - 28s 161ms/step - loss: 0.2195 - val_loss: 0.2199\n",
            "Epoch 3/3\n",
            "172/172 [==============================] - 29s 166ms/step - loss: 0.2191 - val_loss: 0.2195\n"
          ]
        },
        {
          "output_type": "execute_result",
          "data": {
            "text/plain": [
              "<tensorflow.python.keras.callbacks.History at 0x19cb4cd8f48>"
            ]
          },
          "metadata": {},
          "execution_count": 95
        }
      ],
      "metadata": {}
    },
    {
      "cell_type": "code",
      "execution_count": 96,
      "source": [
        "encoder_classifier = keras.models.clone_model(conv_encoder)\r\n",
        "encoder_classifier.add(keras.layers.Dense(40, activation='selu', activity_regularizer='l2'))\r\n",
        "encoder_classifier.add(keras.layers.Dense(20, activation='selu', activity_regularizer='l2'))\r\n",
        "encoder_classifier.add(keras.layers.Dense(1, activation='sigmoid'))\r\n",
        "encoder_classifier.summary()"
      ],
      "outputs": [
        {
          "output_type": "stream",
          "name": "stdout",
          "text": [
            "Model: \"sequential_107\"\n",
            "_________________________________________________________________\n",
            "Layer (type)                 Output Shape              Param #   \n",
            "=================================================================\n",
            "reshape_122 (Reshape)        (None, 300, 96, 1)        0         \n",
            "_________________________________________________________________\n",
            "conv2d_126 (Conv2D)          (None, 147, 1, 96)        73824     \n",
            "_________________________________________________________________\n",
            "activation_83 (Activation)   (None, 147, 1, 96)        0         \n",
            "_________________________________________________________________\n",
            "batch_normalization_174 (Bat (None, 147, 1, 96)        384       \n",
            "_________________________________________________________________\n",
            "conv2d_127 (Conv2D)          (None, 116, 1, 128)       393344    \n",
            "_________________________________________________________________\n",
            "activation_84 (Activation)   (None, 116, 1, 128)       0         \n",
            "_________________________________________________________________\n",
            "batch_normalization_175 (Bat (None, 116, 1, 128)       512       \n",
            "_________________________________________________________________\n",
            "conv2d_128 (Conv2D)          (None, 1, 1, 50)          742450    \n",
            "_________________________________________________________________\n",
            "reshape_123 (Reshape)        (None, 50)                0         \n",
            "_________________________________________________________________\n",
            "dense_26 (Dense)             (None, 40)                2040      \n",
            "_________________________________________________________________\n",
            "dense_27 (Dense)             (None, 20)                820       \n",
            "_________________________________________________________________\n",
            "dense_28 (Dense)             (None, 1)                 21        \n",
            "=================================================================\n",
            "Total params: 1,213,395\n",
            "Trainable params: 1,212,947\n",
            "Non-trainable params: 448\n",
            "_________________________________________________________________\n"
          ]
        }
      ],
      "metadata": {}
    },
    {
      "cell_type": "code",
      "execution_count": 97,
      "source": [
        "encoder_classifier.compile(optimizer='adam', loss='binary_crossentropy', metrics='accuracy')\r\n",
        "encoder_classifier.fit(x=train_ae, y=tf.convert_to_tensor(train_y), epochs=30, batch_size=256, validation_data=(val_ae, tf.convert_to_tensor(val_y)))"
      ],
      "outputs": [
        {
          "output_type": "stream",
          "name": "stdout",
          "text": [
            "Epoch 1/30\n",
            "172/172 [==============================] - 6s 29ms/step - loss: 2.0002 - accuracy: 0.5514 - val_loss: 1.7579 - val_accuracy: 0.5130\n",
            "Epoch 2/30\n",
            "172/172 [==============================] - 5s 28ms/step - loss: 1.5953 - accuracy: 0.5907 - val_loss: 1.5340 - val_accuracy: 0.5653\n",
            "Epoch 3/30\n",
            "172/172 [==============================] - 5s 28ms/step - loss: 1.3992 - accuracy: 0.6159 - val_loss: 1.3860 - val_accuracy: 0.5713\n",
            "Epoch 4/30\n",
            "172/172 [==============================] - 5s 28ms/step - loss: 1.3307 - accuracy: 0.6263 - val_loss: 1.3055 - val_accuracy: 0.6373\n",
            "Epoch 5/30\n",
            "172/172 [==============================] - 5s 28ms/step - loss: 1.2584 - accuracy: 0.6488 - val_loss: 1.1272 - val_accuracy: 0.6360\n",
            "Epoch 6/30\n",
            "172/172 [==============================] - 5s 28ms/step - loss: 1.0115 - accuracy: 0.6784 - val_loss: 1.1405 - val_accuracy: 0.5893\n",
            "Epoch 7/30\n",
            "172/172 [==============================] - 5s 28ms/step - loss: 0.7245 - accuracy: 0.7007 - val_loss: 0.7216 - val_accuracy: 0.6493\n",
            "Epoch 8/30\n",
            "172/172 [==============================] - 5s 28ms/step - loss: 0.6554 - accuracy: 0.7166 - val_loss: 0.7284 - val_accuracy: 0.6603\n",
            "Epoch 9/30\n",
            "172/172 [==============================] - 5s 28ms/step - loss: 0.6296 - accuracy: 0.7326 - val_loss: 0.7528 - val_accuracy: 0.6447\n",
            "Epoch 10/30\n",
            "172/172 [==============================] - 5s 28ms/step - loss: 0.6022 - accuracy: 0.7542 - val_loss: 0.7208 - val_accuracy: 0.6857\n",
            "Epoch 11/30\n",
            "172/172 [==============================] - 5s 29ms/step - loss: 0.5642 - accuracy: 0.7790 - val_loss: 0.7354 - val_accuracy: 0.6760\n",
            "Epoch 12/30\n",
            "172/172 [==============================] - 5s 28ms/step - loss: 0.5136 - accuracy: 0.8009 - val_loss: 0.8555 - val_accuracy: 0.6623\n",
            "Epoch 13/30\n",
            "172/172 [==============================] - 5s 29ms/step - loss: 0.4857 - accuracy: 0.8210 - val_loss: 0.7258 - val_accuracy: 0.7077\n",
            "Epoch 14/30\n",
            "172/172 [==============================] - 5s 29ms/step - loss: 0.4356 - accuracy: 0.8472 - val_loss: 0.9879 - val_accuracy: 0.6440\n",
            "Epoch 15/30\n",
            "172/172 [==============================] - 5s 30ms/step - loss: 0.3916 - accuracy: 0.8657 - val_loss: 1.0206 - val_accuracy: 0.6313\n",
            "Epoch 16/30\n",
            "172/172 [==============================] - 5s 28ms/step - loss: 0.3386 - accuracy: 0.8918 - val_loss: 0.9971 - val_accuracy: 0.6447\n",
            "Epoch 17/30\n",
            "172/172 [==============================] - 5s 28ms/step - loss: 0.2736 - accuracy: 0.9207 - val_loss: 0.9910 - val_accuracy: 0.6897\n",
            "Epoch 18/30\n",
            "172/172 [==============================] - 5s 28ms/step - loss: 0.2229 - accuracy: 0.9422 - val_loss: 1.0443 - val_accuracy: 0.6913\n",
            "Epoch 19/30\n",
            "172/172 [==============================] - 5s 28ms/step - loss: 0.1625 - accuracy: 0.9660 - val_loss: 1.1092 - val_accuracy: 0.6550\n",
            "Epoch 20/30\n",
            " 41/172 [======>.......................] - ETA: 3s - loss: 0.1218 - accuracy: 0.9830"
          ]
        },
        {
          "output_type": "error",
          "ename": "KeyboardInterrupt",
          "evalue": "",
          "traceback": [
            "\u001b[1;31m---------------------------------------------------------------------------\u001b[0m",
            "\u001b[1;31mKeyboardInterrupt\u001b[0m                         Traceback (most recent call last)",
            "\u001b[1;32m<ipython-input-97-771db3996953>\u001b[0m in \u001b[0;36m<module>\u001b[1;34m\u001b[0m\n\u001b[0;32m      1\u001b[0m \u001b[0mencoder_classifier\u001b[0m\u001b[1;33m.\u001b[0m\u001b[0mcompile\u001b[0m\u001b[1;33m(\u001b[0m\u001b[0moptimizer\u001b[0m\u001b[1;33m=\u001b[0m\u001b[1;34m'adam'\u001b[0m\u001b[1;33m,\u001b[0m \u001b[0mloss\u001b[0m\u001b[1;33m=\u001b[0m\u001b[1;34m'binary_crossentropy'\u001b[0m\u001b[1;33m,\u001b[0m \u001b[0mmetrics\u001b[0m\u001b[1;33m=\u001b[0m\u001b[1;34m'accuracy'\u001b[0m\u001b[1;33m)\u001b[0m\u001b[1;33m\u001b[0m\u001b[1;33m\u001b[0m\u001b[0m\n\u001b[1;32m----> 2\u001b[1;33m \u001b[0mencoder_classifier\u001b[0m\u001b[1;33m.\u001b[0m\u001b[0mfit\u001b[0m\u001b[1;33m(\u001b[0m\u001b[0mx\u001b[0m\u001b[1;33m=\u001b[0m\u001b[0mtrain_ae\u001b[0m\u001b[1;33m,\u001b[0m \u001b[0my\u001b[0m\u001b[1;33m=\u001b[0m\u001b[0mtf\u001b[0m\u001b[1;33m.\u001b[0m\u001b[0mconvert_to_tensor\u001b[0m\u001b[1;33m(\u001b[0m\u001b[0mtrain_y\u001b[0m\u001b[1;33m)\u001b[0m\u001b[1;33m,\u001b[0m \u001b[0mepochs\u001b[0m\u001b[1;33m=\u001b[0m\u001b[1;36m30\u001b[0m\u001b[1;33m,\u001b[0m \u001b[0mbatch_size\u001b[0m\u001b[1;33m=\u001b[0m\u001b[1;36m256\u001b[0m\u001b[1;33m,\u001b[0m \u001b[0mvalidation_data\u001b[0m\u001b[1;33m=\u001b[0m\u001b[1;33m(\u001b[0m\u001b[0mval_ae\u001b[0m\u001b[1;33m,\u001b[0m \u001b[0mtf\u001b[0m\u001b[1;33m.\u001b[0m\u001b[0mconvert_to_tensor\u001b[0m\u001b[1;33m(\u001b[0m\u001b[0mval_y\u001b[0m\u001b[1;33m)\u001b[0m\u001b[1;33m)\u001b[0m\u001b[1;33m)\u001b[0m\u001b[1;33m\u001b[0m\u001b[1;33m\u001b[0m\u001b[0m\n\u001b[0m",
            "\u001b[1;32m~\\anaconda3\\envs\\ml\\lib\\site-packages\\tensorflow\\python\\keras\\engine\\training.py\u001b[0m in \u001b[0;36mfit\u001b[1;34m(self, x, y, batch_size, epochs, verbose, callbacks, validation_split, validation_data, shuffle, class_weight, sample_weight, initial_epoch, steps_per_epoch, validation_steps, validation_batch_size, validation_freq, max_queue_size, workers, use_multiprocessing)\u001b[0m\n\u001b[0;32m   1181\u001b[0m                 _r=1):\n\u001b[0;32m   1182\u001b[0m               \u001b[0mcallbacks\u001b[0m\u001b[1;33m.\u001b[0m\u001b[0mon_train_batch_begin\u001b[0m\u001b[1;33m(\u001b[0m\u001b[0mstep\u001b[0m\u001b[1;33m)\u001b[0m\u001b[1;33m\u001b[0m\u001b[1;33m\u001b[0m\u001b[0m\n\u001b[1;32m-> 1183\u001b[1;33m               \u001b[0mtmp_logs\u001b[0m \u001b[1;33m=\u001b[0m \u001b[0mself\u001b[0m\u001b[1;33m.\u001b[0m\u001b[0mtrain_function\u001b[0m\u001b[1;33m(\u001b[0m\u001b[0miterator\u001b[0m\u001b[1;33m)\u001b[0m\u001b[1;33m\u001b[0m\u001b[1;33m\u001b[0m\u001b[0m\n\u001b[0m\u001b[0;32m   1184\u001b[0m               \u001b[1;32mif\u001b[0m \u001b[0mdata_handler\u001b[0m\u001b[1;33m.\u001b[0m\u001b[0mshould_sync\u001b[0m\u001b[1;33m:\u001b[0m\u001b[1;33m\u001b[0m\u001b[1;33m\u001b[0m\u001b[0m\n\u001b[0;32m   1185\u001b[0m                 \u001b[0mcontext\u001b[0m\u001b[1;33m.\u001b[0m\u001b[0masync_wait\u001b[0m\u001b[1;33m(\u001b[0m\u001b[1;33m)\u001b[0m\u001b[1;33m\u001b[0m\u001b[1;33m\u001b[0m\u001b[0m\n",
            "\u001b[1;32m~\\anaconda3\\envs\\ml\\lib\\site-packages\\tensorflow\\python\\eager\\def_function.py\u001b[0m in \u001b[0;36m__call__\u001b[1;34m(self, *args, **kwds)\u001b[0m\n\u001b[0;32m    887\u001b[0m \u001b[1;33m\u001b[0m\u001b[0m\n\u001b[0;32m    888\u001b[0m       \u001b[1;32mwith\u001b[0m \u001b[0mOptionalXlaContext\u001b[0m\u001b[1;33m(\u001b[0m\u001b[0mself\u001b[0m\u001b[1;33m.\u001b[0m\u001b[0m_jit_compile\u001b[0m\u001b[1;33m)\u001b[0m\u001b[1;33m:\u001b[0m\u001b[1;33m\u001b[0m\u001b[1;33m\u001b[0m\u001b[0m\n\u001b[1;32m--> 889\u001b[1;33m         \u001b[0mresult\u001b[0m \u001b[1;33m=\u001b[0m \u001b[0mself\u001b[0m\u001b[1;33m.\u001b[0m\u001b[0m_call\u001b[0m\u001b[1;33m(\u001b[0m\u001b[1;33m*\u001b[0m\u001b[0margs\u001b[0m\u001b[1;33m,\u001b[0m \u001b[1;33m**\u001b[0m\u001b[0mkwds\u001b[0m\u001b[1;33m)\u001b[0m\u001b[1;33m\u001b[0m\u001b[1;33m\u001b[0m\u001b[0m\n\u001b[0m\u001b[0;32m    890\u001b[0m \u001b[1;33m\u001b[0m\u001b[0m\n\u001b[0;32m    891\u001b[0m       \u001b[0mnew_tracing_count\u001b[0m \u001b[1;33m=\u001b[0m \u001b[0mself\u001b[0m\u001b[1;33m.\u001b[0m\u001b[0mexperimental_get_tracing_count\u001b[0m\u001b[1;33m(\u001b[0m\u001b[1;33m)\u001b[0m\u001b[1;33m\u001b[0m\u001b[1;33m\u001b[0m\u001b[0m\n",
            "\u001b[1;32m~\\anaconda3\\envs\\ml\\lib\\site-packages\\tensorflow\\python\\eager\\def_function.py\u001b[0m in \u001b[0;36m_call\u001b[1;34m(self, *args, **kwds)\u001b[0m\n\u001b[0;32m    915\u001b[0m       \u001b[1;31m# In this case we have created variables on the first call, so we run the\u001b[0m\u001b[1;33m\u001b[0m\u001b[1;33m\u001b[0m\u001b[1;33m\u001b[0m\u001b[0m\n\u001b[0;32m    916\u001b[0m       \u001b[1;31m# defunned version which is guaranteed to never create variables.\u001b[0m\u001b[1;33m\u001b[0m\u001b[1;33m\u001b[0m\u001b[1;33m\u001b[0m\u001b[0m\n\u001b[1;32m--> 917\u001b[1;33m       \u001b[1;32mreturn\u001b[0m \u001b[0mself\u001b[0m\u001b[1;33m.\u001b[0m\u001b[0m_stateless_fn\u001b[0m\u001b[1;33m(\u001b[0m\u001b[1;33m*\u001b[0m\u001b[0margs\u001b[0m\u001b[1;33m,\u001b[0m \u001b[1;33m**\u001b[0m\u001b[0mkwds\u001b[0m\u001b[1;33m)\u001b[0m  \u001b[1;31m# pylint: disable=not-callable\u001b[0m\u001b[1;33m\u001b[0m\u001b[1;33m\u001b[0m\u001b[0m\n\u001b[0m\u001b[0;32m    918\u001b[0m     \u001b[1;32melif\u001b[0m \u001b[0mself\u001b[0m\u001b[1;33m.\u001b[0m\u001b[0m_stateful_fn\u001b[0m \u001b[1;32mis\u001b[0m \u001b[1;32mnot\u001b[0m \u001b[1;32mNone\u001b[0m\u001b[1;33m:\u001b[0m\u001b[1;33m\u001b[0m\u001b[1;33m\u001b[0m\u001b[0m\n\u001b[0;32m    919\u001b[0m       \u001b[1;31m# Release the lock early so that multiple threads can perform the call\u001b[0m\u001b[1;33m\u001b[0m\u001b[1;33m\u001b[0m\u001b[1;33m\u001b[0m\u001b[0m\n",
            "\u001b[1;32m~\\anaconda3\\envs\\ml\\lib\\site-packages\\tensorflow\\python\\eager\\function.py\u001b[0m in \u001b[0;36m__call__\u001b[1;34m(self, *args, **kwargs)\u001b[0m\n\u001b[0;32m   3022\u001b[0m        filtered_flat_args) = self._maybe_define_function(args, kwargs)\n\u001b[0;32m   3023\u001b[0m     return graph_function._call_flat(\n\u001b[1;32m-> 3024\u001b[1;33m         filtered_flat_args, captured_inputs=graph_function.captured_inputs)  # pylint: disable=protected-access\n\u001b[0m\u001b[0;32m   3025\u001b[0m \u001b[1;33m\u001b[0m\u001b[0m\n\u001b[0;32m   3026\u001b[0m   \u001b[1;33m@\u001b[0m\u001b[0mproperty\u001b[0m\u001b[1;33m\u001b[0m\u001b[1;33m\u001b[0m\u001b[0m\n",
            "\u001b[1;32m~\\anaconda3\\envs\\ml\\lib\\site-packages\\tensorflow\\python\\eager\\function.py\u001b[0m in \u001b[0;36m_call_flat\u001b[1;34m(self, args, captured_inputs, cancellation_manager)\u001b[0m\n\u001b[0;32m   1959\u001b[0m       \u001b[1;31m# No tape is watching; skip to running the function.\u001b[0m\u001b[1;33m\u001b[0m\u001b[1;33m\u001b[0m\u001b[1;33m\u001b[0m\u001b[0m\n\u001b[0;32m   1960\u001b[0m       return self._build_call_outputs(self._inference_function.call(\n\u001b[1;32m-> 1961\u001b[1;33m           ctx, args, cancellation_manager=cancellation_manager))\n\u001b[0m\u001b[0;32m   1962\u001b[0m     forward_backward = self._select_forward_and_backward_functions(\n\u001b[0;32m   1963\u001b[0m         \u001b[0margs\u001b[0m\u001b[1;33m,\u001b[0m\u001b[1;33m\u001b[0m\u001b[1;33m\u001b[0m\u001b[0m\n",
            "\u001b[1;32m~\\anaconda3\\envs\\ml\\lib\\site-packages\\tensorflow\\python\\eager\\function.py\u001b[0m in \u001b[0;36mcall\u001b[1;34m(self, ctx, args, cancellation_manager)\u001b[0m\n\u001b[0;32m    594\u001b[0m               \u001b[0minputs\u001b[0m\u001b[1;33m=\u001b[0m\u001b[0margs\u001b[0m\u001b[1;33m,\u001b[0m\u001b[1;33m\u001b[0m\u001b[1;33m\u001b[0m\u001b[0m\n\u001b[0;32m    595\u001b[0m               \u001b[0mattrs\u001b[0m\u001b[1;33m=\u001b[0m\u001b[0mattrs\u001b[0m\u001b[1;33m,\u001b[0m\u001b[1;33m\u001b[0m\u001b[1;33m\u001b[0m\u001b[0m\n\u001b[1;32m--> 596\u001b[1;33m               ctx=ctx)\n\u001b[0m\u001b[0;32m    597\u001b[0m         \u001b[1;32melse\u001b[0m\u001b[1;33m:\u001b[0m\u001b[1;33m\u001b[0m\u001b[1;33m\u001b[0m\u001b[0m\n\u001b[0;32m    598\u001b[0m           outputs = execute.execute_with_cancellation(\n",
            "\u001b[1;32m~\\anaconda3\\envs\\ml\\lib\\site-packages\\tensorflow\\python\\eager\\execute.py\u001b[0m in \u001b[0;36mquick_execute\u001b[1;34m(op_name, num_outputs, inputs, attrs, ctx, name)\u001b[0m\n\u001b[0;32m     58\u001b[0m     \u001b[0mctx\u001b[0m\u001b[1;33m.\u001b[0m\u001b[0mensure_initialized\u001b[0m\u001b[1;33m(\u001b[0m\u001b[1;33m)\u001b[0m\u001b[1;33m\u001b[0m\u001b[1;33m\u001b[0m\u001b[0m\n\u001b[0;32m     59\u001b[0m     tensors = pywrap_tfe.TFE_Py_Execute(ctx._handle, device_name, op_name,\n\u001b[1;32m---> 60\u001b[1;33m                                         inputs, attrs, num_outputs)\n\u001b[0m\u001b[0;32m     61\u001b[0m   \u001b[1;32mexcept\u001b[0m \u001b[0mcore\u001b[0m\u001b[1;33m.\u001b[0m\u001b[0m_NotOkStatusException\u001b[0m \u001b[1;32mas\u001b[0m \u001b[0me\u001b[0m\u001b[1;33m:\u001b[0m\u001b[1;33m\u001b[0m\u001b[1;33m\u001b[0m\u001b[0m\n\u001b[0;32m     62\u001b[0m     \u001b[1;32mif\u001b[0m \u001b[0mname\u001b[0m \u001b[1;32mis\u001b[0m \u001b[1;32mnot\u001b[0m \u001b[1;32mNone\u001b[0m\u001b[1;33m:\u001b[0m\u001b[1;33m\u001b[0m\u001b[1;33m\u001b[0m\u001b[0m\n",
            "\u001b[1;31mKeyboardInterrupt\u001b[0m: "
          ]
        }
      ],
      "metadata": {}
    },
    {
      "cell_type": "code",
      "execution_count": null,
      "source": [
        "# https://github.com/tensorflow/models/issues/9706#issuecomment-875123676\r\n",
        "\r\n",
        "recurrent_encoder = keras.models.Sequential([\r\n",
        "    embedding_layer,\r\n",
        "    keras.layers.GRU(300, return_sequences=True, input_shape=[MAX_SEQUENCE_LENGTH, EMBEDDING_DIM]),\r\n",
        "    keras.layers.GRU(100, return_sequences=True),\r\n",
        "    keras.layers.GRU(30)\r\n",
        "])\r\n",
        "recurrent_decoder = keras.models.Sequential([\r\n",
        "    keras.layers.RepeatVector(MAX_SEQUENCE_LENGTH, input_shape=[30]),\r\n",
        "    keras.layers.GRU(100, return_sequences=True),\r\n",
        "    keras.layers.GRU(300, return_sequences=True),\r\n",
        "    keras.layers.GRU(100, return_sequences=True),\r\n",
        "    keras.layers.TimeDistributed(keras.layers.Dense(EMBEDDING_DIM, activation=\"sigmoid\"))\r\n",
        "])\r\n",
        "recurrent_ae = keras.models.Sequential([recurrent_encoder, recurrent_decoder])"
      ],
      "outputs": [],
      "metadata": {
        "id": "tAY7TxWhasTQ"
      }
    },
    {
      "cell_type": "code",
      "execution_count": null,
      "source": [
        "for l in recurrent_ae.layers:\r\n",
        "    l.summary()"
      ],
      "outputs": [
        {
          "output_type": "stream",
          "name": "stdout",
          "text": [
            "Model: \"sequential_9\"\n",
            "_________________________________________________________________\n",
            "Layer (type)                 Output Shape              Param #   \n",
            "=================================================================\n",
            "embedding (Embedding)        (None, 300, 96)           1920000   \n",
            "_________________________________________________________________\n",
            "gru (GRU)                    (None, 300, 300)          358200    \n",
            "_________________________________________________________________\n",
            "gru_1 (GRU)                  (None, 300, 100)          120600    \n",
            "_________________________________________________________________\n",
            "gru_2 (GRU)                  (None, 30)                11880     \n",
            "=================================================================\n",
            "Total params: 2,410,680\n",
            "Trainable params: 490,680\n",
            "Non-trainable params: 1,920,000\n",
            "_________________________________________________________________\n",
            "Model: \"sequential_10\"\n",
            "_________________________________________________________________\n",
            "Layer (type)                 Output Shape              Param #   \n",
            "=================================================================\n",
            "repeat_vector_3 (RepeatVecto (None, 300, 30)           0         \n",
            "_________________________________________________________________\n",
            "gru_3 (GRU)                  (None, 300, 100)          39600     \n",
            "_________________________________________________________________\n",
            "gru_4 (GRU)                  (None, 300, 300)          361800    \n",
            "_________________________________________________________________\n",
            "gru_5 (GRU)                  (None, 300, 100)          120600    \n",
            "_________________________________________________________________\n",
            "time_distributed_3 (TimeDist (None, 300, 96)           9696      \n",
            "=================================================================\n",
            "Total params: 531,696\n",
            "Trainable params: 531,696\n",
            "Non-trainable params: 0\n",
            "_________________________________________________________________\n"
          ]
        }
      ],
      "metadata": {}
    },
    {
      "cell_type": "code",
      "execution_count": null,
      "source": [
        "recurrent_ae.compile(optimizer='adam', loss='binary_crossentropy', metrics='accuracy')"
      ],
      "outputs": [],
      "metadata": {
        "id": "o7_29Phadzp6"
      }
    },
    {
      "cell_type": "code",
      "execution_count": null,
      "source": [
        "# recurrent_ae.fit(x=train_ae, y=embedding_layer(train_ae), epochs=5)"
      ],
      "outputs": [],
      "metadata": {
        "id": "B11FvqJoddIO"
      }
    }
  ]
}