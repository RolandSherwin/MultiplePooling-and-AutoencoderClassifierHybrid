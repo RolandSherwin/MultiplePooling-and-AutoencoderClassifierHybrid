{
  "nbformat": 4,
  "nbformat_minor": 2,
  "metadata": {
    "orig_nbformat": 4,
    "language_info": {
      "name": "python",
      "version": "3.7.9",
      "mimetype": "text/x-python",
      "codemirror_mode": {
        "name": "ipython",
        "version": 3
      },
      "pygments_lexer": "ipython3",
      "nbconvert_exporter": "python",
      "file_extension": ".py"
    },
    "kernelspec": {
      "name": "python3",
      "display_name": "Python 3.7.9 64-bit ('ml': conda)"
    },
    "interpreter": {
      "hash": "6b3ca784da768489958501c88883cb0bea2209d6cbfeece4e115b49d370e2f5b"
    },
    "colab": {
      "name": "02-autoencoder-classifier-hybrid.ipynb",
      "provenance": []
    }
  },
  "cells": [
    {
      "cell_type": "code",
      "execution_count": 1,
      "source": [
        "import os\r\n",
        "import re\r\n",
        "import itertools\r\n",
        "import numpy as np\r\n",
        "import pandas as pd\r\n",
        "import tensorflow as tf\r\n",
        "import tensorflow.keras as keras\r\n",
        "import spacy\r\n",
        "\r\n",
        "SEED = 42\r\n",
        "np.random.seed(SEED)"
      ],
      "outputs": [],
      "metadata": {
        "id": "3rZvcg02asS_"
      }
    },
    {
      "cell_type": "code",
      "execution_count": 2,
      "source": [
        "def convert_to_int(label):\r\n",
        "    if label == \"positive\":\r\n",
        "        return 1\r\n",
        "    elif label == \"negative\":\r\n",
        "        return 0\r\n",
        "    \r\n",
        "dataset = pd.read_csv(os.path.expanduser(\"~\\Downloads\\datasets\\IMDB-Dataset.csv\"))\r\n",
        "dataset['sentiment'] = dataset['sentiment'].map(convert_to_int)\r\n",
        "# dataset = pd.read_csv(\"/content/drive/MyDrive/IMDB-Dataset.csv\")\r\n",
        "train_ae = dataset.iloc[:44000, 0]\r\n",
        "val_ae = dataset.iloc[44000:47000, 0]\r\n",
        "test_ae = dataset.iloc[47000:, 0]\r\n",
        "\r\n",
        "train_y = dataset.iloc[:44000, 1]\r\n",
        "val_y = dataset.iloc[44000:47000, 1]\r\n",
        "test_y = dataset.iloc[47000:, 1]\r\n",
        "\r\n",
        "print(train_ae.head())\r\n",
        "print(\"\\n\", train_y.head())"
      ],
      "outputs": [
        {
          "output_type": "stream",
          "name": "stdout",
          "text": [
            "0    One of the other reviewers has mentioned that ...\n",
            "1    A wonderful little production. <br /><br />The...\n",
            "2    I thought this was a wonderful way to spend ti...\n",
            "3    Basically there's a family where a little boy ...\n",
            "4    Petter Mattei's \"Love in the Time of Money\" is...\n",
            "Name: review, dtype: object\n",
            "\n",
            " 0    1\n",
            "1    1\n",
            "2    1\n",
            "3    0\n",
            "4    1\n",
            "Name: sentiment, dtype: int64\n"
          ]
        }
      ],
      "metadata": {
        "colab": {
          "base_uri": "https://localhost:8080/"
        },
        "id": "_xs_8L6AasTF",
        "outputId": "49593a8b-79c2-4952-a338-e05f08775046"
      }
    },
    {
      "cell_type": "markdown",
      "source": [
        "# Tokenization"
      ],
      "metadata": {
        "id": "l2bxq0KmasTI"
      }
    },
    {
      "cell_type": "code",
      "execution_count": 3,
      "source": [
        "print(train_ae[1][:190])\r\n",
        "html_re = re.compile(r'<[^>]+>')\r\n",
        "train_ae = train_ae.replace(html_re, \"\", regex=True)\r\n",
        "print(train_ae[1][:190])"
      ],
      "outputs": [
        {
          "output_type": "stream",
          "name": "stdout",
          "text": [
            "A wonderful little production. <br /><br />The filming technique is very unassuming- very old-time-BBC fashion and gives a comforting, and sometimes discomforting, sense of realism to the en\n",
            "A wonderful little production. The filming technique is very unassuming- very old-time-BBC fashion and gives a comforting, and sometimes discomforting, sense of realism to the entire piece. \n"
          ]
        }
      ],
      "metadata": {
        "colab": {
          "base_uri": "https://localhost:8080/"
        },
        "id": "L0yZjK3FasTJ",
        "outputId": "9d8f8bc5-0fd1-476b-d180-268e87e45069"
      }
    },
    {
      "cell_type": "code",
      "execution_count": 4,
      "source": [
        "tokenizer = keras.preprocessing.text.Tokenizer(filters='!\"#$%&()*+,-./:;<=>?@[\\\\]^_`{|}~\\t\\n')\r\n",
        "tokenizer.fit_on_texts(train_ae)\r\n",
        "print(\"Word Indices: \")\r\n",
        "print(dict(itertools.islice(tokenizer.index_word.items(), 20)), \"...\")\r\n",
        "print(f\"Word Count: {len(tokenizer.word_index)}\")"
      ],
      "outputs": [
        {
          "output_type": "stream",
          "name": "stdout",
          "text": [
            "Word Indices: \n",
            "{1: 'the', 2: 'and', 3: 'a', 4: 'of', 5: 'to', 6: 'is', 7: 'in', 8: 'it', 9: 'i', 10: 'this', 11: 'that', 12: 'was', 13: 'as', 14: 'for', 15: 'with', 16: 'movie', 17: 'but', 18: 'film', 19: 'on', 20: 'not'} ...\n",
            "Word Count: 119224\n"
          ]
        }
      ],
      "metadata": {
        "colab": {
          "base_uri": "https://localhost:8080/"
        },
        "id": "YhBsV23SasTK",
        "outputId": "68fc1b75-335d-4f49-ab7a-bc770839a3f3"
      }
    },
    {
      "cell_type": "code",
      "execution_count": 5,
      "source": [
        "MAX_NUM_TOKENS = 10000\r\n",
        "tokenizer.num_words = MAX_NUM_TOKENS\r\n",
        "train_ae = train_ae.apply(lambda x: tokenizer.texts_to_sequences([x])[0])\r\n",
        "val_ae = val_ae.apply(lambda x: tokenizer.texts_to_sequences([x])[0])\r\n",
        "test_ae = test_ae.apply(lambda x: tokenizer.texts_to_sequences([x])[0])\r\n",
        "\r\n",
        "train_ae.head()"
      ],
      "outputs": [
        {
          "output_type": "execute_result",
          "data": {
            "text/plain": [
              "0    [26, 4, 1, 79, 2077, 44, 1059, 11, 98, 146, 38...\n",
              "1    [3, 393, 119, 353, 1, 1350, 2947, 6, 51, 51, 1...\n",
              "2    [9, 190, 10, 12, 3, 393, 94, 5, 1133, 54, 19, ...\n",
              "3    [689, 221, 3, 232, 116, 3, 119, 426, 3595, 128...\n",
              "4    [111, 7, 1, 54, 4, 287, 6, 3, 2074, 1438, 18, ...\n",
              "Name: review, dtype: object"
            ]
          },
          "metadata": {},
          "execution_count": 5
        }
      ],
      "metadata": {
        "colab": {
          "base_uri": "https://localhost:8080/"
        },
        "id": "uqr3epOgasTL",
        "outputId": "b7e08bd2-4a6e-4bcb-96a2-cd9603ccfbf2"
      }
    },
    {
      "cell_type": "markdown",
      "source": [
        "# Padding"
      ],
      "metadata": {
        "id": "u6OQJHMjasTM"
      }
    },
    {
      "cell_type": "code",
      "execution_count": 6,
      "source": [
        "print('sequence_length mean: ', train_ae.apply(lambda x: len(x)).mean())\r\n",
        "print('sequence_length median: ', train_ae.apply(lambda x: len(x)).median())\r\n",
        "print('sequence_length std deviation: ', np.sqrt(train_ae.apply(lambda x: len(x)).var()))\r\n",
        "MAX_SEQUENCE_LENGTH = 300 # mean + std deviation*0.5"
      ],
      "outputs": [
        {
          "output_type": "stream",
          "name": "stdout",
          "text": [
            "sequence_length mean:  217.23727272727274\n",
            "sequence_length median:  164.0\n",
            "sequence_length std deviation:  158.58784251928319\n"
          ]
        }
      ],
      "metadata": {
        "colab": {
          "base_uri": "https://localhost:8080/"
        },
        "id": "Ky6hzR38asTM",
        "outputId": "e15b0584-6c6a-4cec-ef7d-9db7b71bb3c8"
      }
    },
    {
      "cell_type": "code",
      "execution_count": 7,
      "source": [
        "train_ae = keras.preprocessing.sequence.pad_sequences(train_ae, maxlen=MAX_SEQUENCE_LENGTH, padding='post', truncating='post')\r\n",
        "val_ae = keras.preprocessing.sequence.pad_sequences(val_ae, maxlen=MAX_SEQUENCE_LENGTH, padding='post', truncating='post')\r\n",
        "test_ae = keras.preprocessing.sequence.pad_sequences(test_ae, maxlen=MAX_SEQUENCE_LENGTH, padding='post', truncating='post')\r\n",
        "print(train_ae)"
      ],
      "outputs": [
        {
          "output_type": "stream",
          "name": "stdout",
          "text": [
            "[[  26    4    1 ...    0    0    0]\n",
            " [   3  393  119 ...    0    0    0]\n",
            " [   9  190   10 ...    0    0    0]\n",
            " ...\n",
            " [   1 3047    5 ...  391    3  701]\n",
            " [ 528   10   26 ...    0    0    0]\n",
            " [   9  152   24 ...    0    0    0]]\n"
          ]
        }
      ],
      "metadata": {
        "colab": {
          "base_uri": "https://localhost:8080/"
        },
        "id": "lPEZS3vVasTN",
        "outputId": "1f612f8f-2381-4427-9ed2-4f37d962d55e"
      }
    },
    {
      "cell_type": "markdown",
      "source": [
        "# Word to Vector"
      ],
      "metadata": {
        "id": "j4zFELEFasTO"
      }
    },
    {
      "cell_type": "code",
      "execution_count": 8,
      "source": [
        "word2vec_model = spacy.load(\"en_core_web_sm\")\r\n",
        "\r\n",
        "df_index_word = pd.Series(tokenizer.index_word) # Get all the words in the vocabulary\r\n",
        "df_index_word = df_index_word[:MAX_NUM_TOKENS-1]\r\n",
        "df_index_word = pd.Series([\"temp_oov_word\"]).append(df_index_word) # Add a temporary row for oov words\r\n",
        "df_index_word = df_index_word.reset_index() # New column for token_id\r\n",
        "df_index_word.columns = ['token_id', 'token']\r\n",
        "\r\n",
        "df_index_word['word2vec'] = df_index_word.token.apply(lambda x: word2vec_model(x).vector) # Embedding for each word\r\n",
        "df_index_word.at[0, \"word2vec\"] = np.zeros_like(df_index_word.at[0, \"word2vec\"]) # Replace the embedding for \"temp_oov_word\" with 0s\r\n",
        "df_index_word.head()"
      ],
      "outputs": [
        {
          "output_type": "execute_result",
          "data": {
            "text/html": [
              "<div>\n",
              "<style scoped>\n",
              "    .dataframe tbody tr th:only-of-type {\n",
              "        vertical-align: middle;\n",
              "    }\n",
              "\n",
              "    .dataframe tbody tr th {\n",
              "        vertical-align: top;\n",
              "    }\n",
              "\n",
              "    .dataframe thead th {\n",
              "        text-align: right;\n",
              "    }\n",
              "</style>\n",
              "<table border=\"1\" class=\"dataframe\">\n",
              "  <thead>\n",
              "    <tr style=\"text-align: right;\">\n",
              "      <th></th>\n",
              "      <th>token_id</th>\n",
              "      <th>token</th>\n",
              "      <th>word2vec</th>\n",
              "    </tr>\n",
              "  </thead>\n",
              "  <tbody>\n",
              "    <tr>\n",
              "      <th>0</th>\n",
              "      <td>0</td>\n",
              "      <td>temp_oov_word</td>\n",
              "      <td>[0.0, 0.0, 0.0, 0.0, 0.0, 0.0, 0.0, 0.0, 0.0, ...</td>\n",
              "    </tr>\n",
              "    <tr>\n",
              "      <th>1</th>\n",
              "      <td>1</td>\n",
              "      <td>the</td>\n",
              "      <td>[-0.2032743, -0.4009009, -0.73730505, 0.536398...</td>\n",
              "    </tr>\n",
              "    <tr>\n",
              "      <th>2</th>\n",
              "      <td>2</td>\n",
              "      <td>and</td>\n",
              "      <td>[-0.9291044, -0.13172856, -0.814826, 0.6040276...</td>\n",
              "    </tr>\n",
              "    <tr>\n",
              "      <th>3</th>\n",
              "      <td>3</td>\n",
              "      <td>a</td>\n",
              "      <td>[0.02819018, 0.009864252, -0.095220566, 0.5522...</td>\n",
              "    </tr>\n",
              "    <tr>\n",
              "      <th>4</th>\n",
              "      <td>4</td>\n",
              "      <td>of</td>\n",
              "      <td>[-1.1193825, 0.18575507, -0.59173, -0.4724092,...</td>\n",
              "    </tr>\n",
              "  </tbody>\n",
              "</table>\n",
              "</div>"
            ],
            "text/plain": [
              "   token_id          token                                           word2vec\n",
              "0         0  temp_oov_word  [0.0, 0.0, 0.0, 0.0, 0.0, 0.0, 0.0, 0.0, 0.0, ...\n",
              "1         1            the  [-0.2032743, -0.4009009, -0.73730505, 0.536398...\n",
              "2         2            and  [-0.9291044, -0.13172856, -0.814826, 0.6040276...\n",
              "3         3              a  [0.02819018, 0.009864252, -0.095220566, 0.5522...\n",
              "4         4             of  [-1.1193825, 0.18575507, -0.59173, -0.4724092,..."
            ]
          },
          "metadata": {},
          "execution_count": 8
        }
      ],
      "metadata": {
        "colab": {
          "base_uri": "https://localhost:8080/"
        },
        "id": "4IQSBGYsasTP",
        "outputId": "1c74bf68-4879-4e0c-c409-f17b8fa8d5de"
      }
    },
    {
      "cell_type": "code",
      "execution_count": 9,
      "source": [
        "embedding_matrix = np.array([vec for vec in df_index_word.word2vec.values])\r\n",
        "print(embedding_matrix.shape) # MAX_NUM_TOKENS x vector dim \r\n",
        "embedding_matrix[0:3, :5]"
      ],
      "outputs": [
        {
          "output_type": "stream",
          "name": "stdout",
          "text": [
            "(10000, 96)\n"
          ]
        },
        {
          "output_type": "execute_result",
          "data": {
            "text/plain": [
              "array([[ 0.        ,  0.        ,  0.        ,  0.        ,  0.        ],\n",
              "       [-0.2032743 , -0.4009009 , -0.73730505,  0.5363982 ,  0.3764372 ],\n",
              "       [-0.9291044 , -0.13172856, -0.814826  ,  0.6040276 , -0.67340827]],\n",
              "      dtype=float32)"
            ]
          },
          "metadata": {},
          "execution_count": 9
        }
      ],
      "metadata": {
        "colab": {
          "base_uri": "https://localhost:8080/"
        },
        "id": "GjIg_qvLasTP",
        "outputId": "48da28d9-1024-4b41-aa6f-f592a7bac5fb"
      }
    },
    {
      "cell_type": "code",
      "execution_count": 10,
      "source": [
        "# MAX_NUM_TOKENS = 20000\r\n",
        "# MAX_SEQUENCE_LENGTH = 300\r\n",
        "EMBEDDING_DIM = embedding_matrix.shape[1] #96\r\n",
        "embedding_layer = keras.layers.Embedding(\r\n",
        "    input_dim=MAX_NUM_TOKENS,\r\n",
        "    output_dim=EMBEDDING_DIM,\r\n",
        "    embeddings_initializer=keras.initializers.Constant(embedding_matrix),\r\n",
        "    input_length=MAX_SEQUENCE_LENGTH,\r\n",
        "    mask_zero=True,\r\n",
        "    trainable=False)\r\n",
        "\r\n",
        "# test\r\n",
        "embedding_result = embedding_layer(inputs=train_ae[0])\r\n",
        "print(embedding_result.shape) # MAX_SEQUENCE_LENGTH x EMBEDDING_DIM\r\n",
        "print(\"Embeddings of the first 5 words (each vector is restricted to size 5)\")\r\n",
        "print(train_ae[0][:5])\r\n",
        "print(embedding_result[:5, :5]) \r\n",
        "\r\n",
        "train_ae = embedding_layer(inputs=train_ae)\r\n",
        "val_ae = embedding_layer(inputs=val_ae)\r\n",
        "test_ae = embedding_layer(inputs=test_ae)"
      ],
      "outputs": [
        {
          "output_type": "stream",
          "name": "stdout",
          "text": [
            "(300, 96)\n",
            "Embeddings of the first 5 words (each vector is restricted to size 5)\n",
            "[  26    4    1   79 2077]\n",
            "tf.Tensor(\n",
            "[[ 0.49959356  0.704657    0.4497372   0.32913145  0.01701519]\n",
            " [-1.1193825   0.18575507 -0.59173    -0.4724092   0.04607756]\n",
            " [-0.2032743  -0.4009009  -0.73730505  0.5363982   0.3764372 ]\n",
            " [-0.33528453 -0.5446908   0.7285543  -0.51831293  0.10952553]\n",
            " [-0.39640257  0.09997782 -0.0515418   0.10987999  0.6886112 ]], shape=(5, 5), dtype=float32)\n"
          ]
        }
      ],
      "metadata": {
        "colab": {
          "base_uri": "https://localhost:8080/"
        },
        "id": "iCnrIUeOasTQ",
        "outputId": "02685cab-4801-4816-d972-96601ec52ec8"
      }
    },
    {
      "cell_type": "markdown",
      "source": [
        "# Convolutional Autoencoder"
      ],
      "metadata": {}
    },
    {
      "cell_type": "code",
      "execution_count": 11,
      "source": [
        "conv_encoder = keras.models.Sequential([\r\n",
        "    keras.layers.Conv1D(filters=96, kernel_size=8, strides=2, input_shape=[MAX_SEQUENCE_LENGTH, EMBEDDING_DIM]),\r\n",
        "    keras.layers.MaxPool1D(pool_size=2),\r\n",
        "    keras.layers.Activation('selu'),\r\n",
        "    keras.layers.BatchNormalization(),\r\n",
        "    \r\n",
        "    keras.layers.Conv1D(filters=128, kernel_size=16, strides=1),\r\n",
        "    keras.layers.MaxPool1D(pool_size=4),\r\n",
        "    keras.layers.Activation('selu'),\r\n",
        "    keras.layers.BatchNormalization(),\r\n",
        "    \r\n",
        "    keras.layers.Conv1D(filters=50, kernel_size=14),\r\n",
        "    # keras.layers.BatchNormalization(),\r\n",
        "    # keras.layers.Conv2D(filters=50, kernel_size=(1,1)), # fully conv layer\r\n",
        "    keras.layers.Reshape([50])\r\n",
        "])\r\n",
        "conv_encoder.summary()\r\n",
        "conv_decoder = keras.models.Sequential([\r\n",
        "    # kernel size and strides are chosen such that we get 300x96 = 28800 = 180x160 size.\r\n",
        "    keras.layers.Reshape([50,1], input_shape=[50]),\r\n",
        "    keras.layers.Conv1DTranspose(64, kernel_size=8, padding='valid', input_shape=[1,50]),\r\n",
        "    keras.layers.BatchNormalization(),\r\n",
        "    keras.layers.Conv1DTranspose(128, kernel_size=32, strides=2, padding='valid', activation='selu'),\r\n",
        "    keras.layers.BatchNormalization(),\r\n",
        "    keras.layers.Conv1DTranspose(160, kernel_size=37, strides=1, padding='valid', activation='selu'),\r\n",
        "    keras.layers.BatchNormalization(),\r\n",
        "    # keras.layers.Conv1DTranspose(1, kernel_size=22, strides=2, padding='valid', activation='linear'), \r\n",
        "    keras.layers.Reshape([MAX_SEQUENCE_LENGTH, EMBEDDING_DIM])\r\n",
        "])\r\n",
        "conv_decoder.summary()\r\n",
        "conv_ae = keras.models.Sequential([conv_encoder, conv_decoder])"
      ],
      "outputs": [
        {
          "output_type": "stream",
          "name": "stdout",
          "text": [
            "Model: \"sequential\"\n",
            "_________________________________________________________________\n",
            "Layer (type)                 Output Shape              Param #   \n",
            "=================================================================\n",
            "conv1d (Conv1D)              (None, 147, 96)           73824     \n",
            "_________________________________________________________________\n",
            "max_pooling1d (MaxPooling1D) (None, 73, 96)            0         \n",
            "_________________________________________________________________\n",
            "activation (Activation)      (None, 73, 96)            0         \n",
            "_________________________________________________________________\n",
            "batch_normalization (BatchNo (None, 73, 96)            384       \n",
            "_________________________________________________________________\n",
            "conv1d_1 (Conv1D)            (None, 58, 128)           196736    \n",
            "_________________________________________________________________\n",
            "max_pooling1d_1 (MaxPooling1 (None, 14, 128)           0         \n",
            "_________________________________________________________________\n",
            "activation_1 (Activation)    (None, 14, 128)           0         \n",
            "_________________________________________________________________\n",
            "batch_normalization_1 (Batch (None, 14, 128)           512       \n",
            "_________________________________________________________________\n",
            "conv1d_2 (Conv1D)            (None, 1, 50)             89650     \n",
            "_________________________________________________________________\n",
            "reshape (Reshape)            (None, 50)                0         \n",
            "=================================================================\n",
            "Total params: 361,106\n",
            "Trainable params: 360,658\n",
            "Non-trainable params: 448\n",
            "_________________________________________________________________\n",
            "Model: \"sequential_1\"\n",
            "_________________________________________________________________\n",
            "Layer (type)                 Output Shape              Param #   \n",
            "=================================================================\n",
            "reshape_1 (Reshape)          (None, 50, 1)             0         \n",
            "_________________________________________________________________\n",
            "conv1d_transpose (Conv1DTran (None, 57, 64)            576       \n",
            "_________________________________________________________________\n",
            "batch_normalization_2 (Batch (None, 57, 64)            256       \n",
            "_________________________________________________________________\n",
            "conv1d_transpose_1 (Conv1DTr (None, 144, 128)          262272    \n",
            "_________________________________________________________________\n",
            "batch_normalization_3 (Batch (None, 144, 128)          512       \n",
            "_________________________________________________________________\n",
            "conv1d_transpose_2 (Conv1DTr (None, 180, 160)          757920    \n",
            "_________________________________________________________________\n",
            "batch_normalization_4 (Batch (None, 180, 160)          640       \n",
            "_________________________________________________________________\n",
            "reshape_2 (Reshape)          (None, 300, 96)           0         \n",
            "=================================================================\n",
            "Total params: 1,022,176\n",
            "Trainable params: 1,021,472\n",
            "Non-trainable params: 704\n",
            "_________________________________________________________________\n"
          ]
        }
      ],
      "metadata": {}
    },
    {
      "cell_type": "code",
      "execution_count": 12,
      "source": [
        "conv_ae.compile(optimizer='adam', loss='mse') # metrics='accuracy' is useful only when doing classification\r\n",
        "conv_ae.fit(x=train_ae, y=train_ae, epochs=10, batch_size=256, validation_data=(val_ae, val_ae))"
      ],
      "outputs": [
        {
          "output_type": "stream",
          "name": "stdout",
          "text": [
            "Epoch 1/10\n",
            "172/172 [==============================] - 44s 64ms/step - loss: 0.8208 - val_loss: 0.7382\n",
            "Epoch 2/10\n",
            "172/172 [==============================] - 10s 57ms/step - loss: 0.5837 - val_loss: 0.4785\n",
            "Epoch 3/10\n",
            "172/172 [==============================] - 9s 53ms/step - loss: 0.4320 - val_loss: 0.3622\n",
            "Epoch 4/10\n",
            "172/172 [==============================] - 9s 53ms/step - loss: 0.3311 - val_loss: 0.2887\n",
            "Epoch 5/10\n",
            "172/172 [==============================] - 9s 54ms/step - loss: 0.2686 - val_loss: 0.2465\n",
            "Epoch 6/10\n",
            "172/172 [==============================] - 10s 58ms/step - loss: 0.2327 - val_loss: 0.2208\n",
            "Epoch 7/10\n",
            "172/172 [==============================] - 12s 71ms/step - loss: 0.2136 - val_loss: 0.2078\n",
            "Epoch 8/10\n",
            "172/172 [==============================] - 10s 60ms/step - loss: 0.2042 - val_loss: 0.2022\n",
            "Epoch 9/10\n",
            "172/172 [==============================] - 10s 58ms/step - loss: 0.2000 - val_loss: 0.1995\n",
            "Epoch 10/10\n",
            "172/172 [==============================] - 10s 57ms/step - loss: 0.1983 - val_loss: 0.1984\n"
          ]
        },
        {
          "output_type": "execute_result",
          "data": {
            "text/plain": [
              "<tensorflow.python.keras.callbacks.History at 0x20106503608>"
            ]
          },
          "metadata": {},
          "execution_count": 12
        }
      ],
      "metadata": {}
    },
    {
      "cell_type": "markdown",
      "source": [
        "# Pre Trained Classifier"
      ],
      "metadata": {}
    },
    {
      "cell_type": "code",
      "execution_count": 13,
      "source": [
        "encoder_classifier = keras.models.clone_model(conv_encoder)\r\n",
        "encoder_classifier.add(keras.layers.Dense(40, activation='selu', activity_regularizer='l2'))\r\n",
        "encoder_classifier.add(keras.layers.Dense(20, activation='selu', activity_regularizer='l2'))\r\n",
        "encoder_classifier.add(keras.layers.Dense(1, activation='sigmoid'))\r\n",
        "encoder_classifier.summary()"
      ],
      "outputs": [
        {
          "output_type": "stream",
          "name": "stdout",
          "text": [
            "Model: \"sequential\"\n",
            "_________________________________________________________________\n",
            "Layer (type)                 Output Shape              Param #   \n",
            "=================================================================\n",
            "conv1d (Conv1D)              (None, 147, 96)           73824     \n",
            "_________________________________________________________________\n",
            "max_pooling1d (MaxPooling1D) (None, 73, 96)            0         \n",
            "_________________________________________________________________\n",
            "activation (Activation)      (None, 73, 96)            0         \n",
            "_________________________________________________________________\n",
            "batch_normalization (BatchNo (None, 73, 96)            384       \n",
            "_________________________________________________________________\n",
            "conv1d_1 (Conv1D)            (None, 58, 128)           196736    \n",
            "_________________________________________________________________\n",
            "max_pooling1d_1 (MaxPooling1 (None, 14, 128)           0         \n",
            "_________________________________________________________________\n",
            "activation_1 (Activation)    (None, 14, 128)           0         \n",
            "_________________________________________________________________\n",
            "batch_normalization_1 (Batch (None, 14, 128)           512       \n",
            "_________________________________________________________________\n",
            "conv1d_2 (Conv1D)            (None, 1, 50)             89650     \n",
            "_________________________________________________________________\n",
            "reshape (Reshape)            (None, 50)                0         \n",
            "_________________________________________________________________\n",
            "dense (Dense)                (None, 40)                2040      \n",
            "_________________________________________________________________\n",
            "dense_1 (Dense)              (None, 20)                820       \n",
            "_________________________________________________________________\n",
            "dense_2 (Dense)              (None, 1)                 21        \n",
            "=================================================================\n",
            "Total params: 363,987\n",
            "Trainable params: 363,539\n",
            "Non-trainable params: 448\n",
            "_________________________________________________________________\n"
          ]
        }
      ],
      "metadata": {}
    },
    {
      "cell_type": "code",
      "execution_count": 14,
      "source": [
        "early_stopping = keras.callbacks.EarlyStopping(monitor=\"val_accuracy\", patience=3, verbose=1, restore_best_weights=True)\r\n",
        "encoder_classifier.compile(optimizer='adam', loss='binary_crossentropy', metrics='accuracy')\r\n",
        "encoder_classifier.fit(x=train_ae, y=tf.convert_to_tensor(train_y), epochs=30, batch_size=256, validation_data=(val_ae, tf.convert_to_tensor(val_y)))"
      ],
      "outputs": [
        {
          "output_type": "stream",
          "name": "stdout",
          "text": [
            "Epoch 1/30\n",
            "172/172 [==============================] - 6s 24ms/step - loss: 0.8296 - accuracy: 0.6170 - val_loss: 0.9070 - val_accuracy: 0.6090\n",
            "Epoch 2/30\n",
            "172/172 [==============================] - 4s 23ms/step - loss: 0.6207 - accuracy: 0.7065 - val_loss: 0.6804 - val_accuracy: 0.6750\n",
            "Epoch 3/30\n",
            "172/172 [==============================] - 4s 23ms/step - loss: 0.5549 - accuracy: 0.7574 - val_loss: 1.0638 - val_accuracy: 0.5740\n",
            "Epoch 4/30\n",
            "172/172 [==============================] - 4s 22ms/step - loss: 0.4816 - accuracy: 0.8085 - val_loss: 0.6393 - val_accuracy: 0.7167\n",
            "Epoch 5/30\n",
            "172/172 [==============================] - 4s 22ms/step - loss: 0.3884 - accuracy: 0.8652 - val_loss: 0.7079 - val_accuracy: 0.7090\n",
            "Epoch 6/30\n",
            "172/172 [==============================] - 4s 22ms/step - loss: 0.2858 - accuracy: 0.9180 - val_loss: 0.7534 - val_accuracy: 0.7110\n",
            "Epoch 7/30\n",
            "172/172 [==============================] - 4s 23ms/step - loss: 0.2043 - accuracy: 0.9537 - val_loss: 1.0640 - val_accuracy: 0.6840\n",
            "Epoch 8/30\n",
            "172/172 [==============================] - 4s 23ms/step - loss: 0.1418 - accuracy: 0.9787 - val_loss: 0.8261 - val_accuracy: 0.7270\n",
            "Epoch 9/30\n",
            "172/172 [==============================] - 4s 24ms/step - loss: 0.1000 - accuracy: 0.9924 - val_loss: 0.9355 - val_accuracy: 0.7113\n",
            "Epoch 10/30\n",
            "172/172 [==============================] - 4s 23ms/step - loss: 0.0691 - accuracy: 0.9987 - val_loss: 0.8267 - val_accuracy: 0.7270\n",
            "Epoch 11/30\n",
            "172/172 [==============================] - 4s 22ms/step - loss: 0.0519 - accuracy: 0.9997 - val_loss: 0.7979 - val_accuracy: 0.7223\n",
            "Epoch 12/30\n",
            "172/172 [==============================] - 4s 23ms/step - loss: 0.0434 - accuracy: 0.9999 - val_loss: 0.7992 - val_accuracy: 0.7247\n",
            "Epoch 13/30\n",
            "172/172 [==============================] - 4s 23ms/step - loss: 0.0378 - accuracy: 0.9999 - val_loss: 0.8371 - val_accuracy: 0.7157\n",
            "Epoch 14/30\n",
            "172/172 [==============================] - 4s 23ms/step - loss: 0.0341 - accuracy: 1.0000 - val_loss: 0.7849 - val_accuracy: 0.7223\n",
            "Epoch 15/30\n",
            "172/172 [==============================] - 4s 23ms/step - loss: 0.0309 - accuracy: 1.0000 - val_loss: 0.8004 - val_accuracy: 0.7153\n",
            "Epoch 16/30\n",
            "172/172 [==============================] - 4s 22ms/step - loss: 0.0295 - accuracy: 0.9999 - val_loss: 0.8360 - val_accuracy: 0.7213\n",
            "Epoch 17/30\n",
            "172/172 [==============================] - 4s 24ms/step - loss: 0.0284 - accuracy: 0.9999 - val_loss: 0.8176 - val_accuracy: 0.7117\n",
            "Epoch 18/30\n",
            "172/172 [==============================] - 4s 24ms/step - loss: 0.0251 - accuracy: 1.0000 - val_loss: 0.8359 - val_accuracy: 0.7137\n",
            "Epoch 19/30\n",
            "172/172 [==============================] - 4s 23ms/step - loss: 0.0251 - accuracy: 1.0000 - val_loss: 0.8701 - val_accuracy: 0.7093\n",
            "Epoch 20/30\n",
            "172/172 [==============================] - 4s 23ms/step - loss: 0.0221 - accuracy: 1.0000 - val_loss: 0.9080 - val_accuracy: 0.6980\n",
            "Epoch 21/30\n",
            "172/172 [==============================] - 4s 23ms/step - loss: 0.0211 - accuracy: 1.0000 - val_loss: 0.8469 - val_accuracy: 0.7123\n",
            "Epoch 22/30\n",
            "172/172 [==============================] - 4s 23ms/step - loss: 0.0195 - accuracy: 1.0000 - val_loss: 0.8520 - val_accuracy: 0.7123\n",
            "Epoch 23/30\n",
            "172/172 [==============================] - 4s 23ms/step - loss: 0.0190 - accuracy: 1.0000 - val_loss: 0.8272 - val_accuracy: 0.7140\n",
            "Epoch 24/30\n",
            "172/172 [==============================] - 4s 23ms/step - loss: 0.0179 - accuracy: 1.0000 - val_loss: 0.8423 - val_accuracy: 0.7140\n",
            "Epoch 25/30\n",
            "172/172 [==============================] - 4s 23ms/step - loss: 0.6025 - accuracy: 0.8813 - val_loss: 2.1290 - val_accuracy: 0.5717\n",
            "Epoch 26/30\n",
            "172/172 [==============================] - 4s 23ms/step - loss: 0.3264 - accuracy: 0.8808 - val_loss: 1.3935 - val_accuracy: 0.6043\n",
            "Epoch 27/30\n",
            "172/172 [==============================] - 4s 23ms/step - loss: 0.1197 - accuracy: 0.9710 - val_loss: 1.5765 - val_accuracy: 0.6403\n",
            "Epoch 28/30\n",
            "172/172 [==============================] - 4s 23ms/step - loss: 0.0612 - accuracy: 0.9929 - val_loss: 1.1025 - val_accuracy: 0.7173\n",
            "Epoch 29/30\n",
            "172/172 [==============================] - 4s 23ms/step - loss: 0.0383 - accuracy: 0.9996 - val_loss: 0.9859 - val_accuracy: 0.7287\n",
            "Epoch 30/30\n",
            "172/172 [==============================] - 4s 22ms/step - loss: 0.0299 - accuracy: 0.9999 - val_loss: 0.9461 - val_accuracy: 0.7250\n"
          ]
        },
        {
          "output_type": "execute_result",
          "data": {
            "text/plain": [
              "<tensorflow.python.keras.callbacks.History at 0x2011fe50cc8>"
            ]
          },
          "metadata": {},
          "execution_count": 14
        }
      ],
      "metadata": {}
    },
    {
      "cell_type": "markdown",
      "source": [
        "# Encoded Features as Input"
      ],
      "metadata": {}
    },
    {
      "cell_type": "code",
      "execution_count": 16,
      "source": [
        "train_new = conv_encoder.predict(train_ae)\r\n",
        "val_new = conv_encoder.predict(val_ae)\r\n",
        "classifier = keras.models.Sequential([\r\n",
        "    keras.layers.Dense(40, activation='relu', input_shape=[50]),\r\n",
        "    keras.layers.Dense(20, activation='relu'),\r\n",
        "    keras.layers.Dense(1, activation='sigmoid')\r\n",
        "])\r\n",
        "classifier.summary()\r\n",
        "classifier.compile(optimizer='adam', loss='binary_crossentropy', metrics='accuracy')\r\n",
        "classifier.fit(x=train_new, y=tf.convert_to_tensor(train_y), epochs=30, batch_size=256, validation_data=(val_new, tf.convert_to_tensor(val_y)))"
      ],
      "outputs": [
        {
          "output_type": "stream",
          "name": "stdout",
          "text": [
            "Model: \"sequential_3\"\n",
            "_________________________________________________________________\n",
            "Layer (type)                 Output Shape              Param #   \n",
            "=================================================================\n",
            "dense_3 (Dense)              (None, 40)                2040      \n",
            "_________________________________________________________________\n",
            "dense_4 (Dense)              (None, 20)                820       \n",
            "_________________________________________________________________\n",
            "dense_5 (Dense)              (None, 1)                 21        \n",
            "=================================================================\n",
            "Total params: 2,881\n",
            "Trainable params: 2,881\n",
            "Non-trainable params: 0\n",
            "_________________________________________________________________\n",
            "Epoch 1/30\n",
            "172/172 [==============================] - 1s 3ms/step - loss: 0.7137 - accuracy: 0.5294 - val_loss: 0.6916 - val_accuracy: 0.5423\n",
            "Epoch 2/30\n",
            "172/172 [==============================] - 0s 3ms/step - loss: 0.6890 - accuracy: 0.5452 - val_loss: 0.6884 - val_accuracy: 0.5383\n",
            "Epoch 3/30\n",
            "172/172 [==============================] - 0s 3ms/step - loss: 0.6861 - accuracy: 0.5530 - val_loss: 0.6861 - val_accuracy: 0.5550\n",
            "Epoch 4/30\n",
            "172/172 [==============================] - 0s 3ms/step - loss: 0.6840 - accuracy: 0.5547 - val_loss: 0.6873 - val_accuracy: 0.5380\n",
            "Epoch 5/30\n",
            "172/172 [==============================] - 0s 3ms/step - loss: 0.6825 - accuracy: 0.5595 - val_loss: 0.6871 - val_accuracy: 0.5420\n",
            "Epoch 6/30\n",
            "172/172 [==============================] - 0s 3ms/step - loss: 0.6816 - accuracy: 0.5614 - val_loss: 0.6859 - val_accuracy: 0.5500\n",
            "Epoch 7/30\n",
            "172/172 [==============================] - 0s 3ms/step - loss: 0.6804 - accuracy: 0.5617 - val_loss: 0.6838 - val_accuracy: 0.5573\n",
            "Epoch 8/30\n",
            "172/172 [==============================] - 0s 3ms/step - loss: 0.6805 - accuracy: 0.5642 - val_loss: 0.6867 - val_accuracy: 0.5420\n",
            "Epoch 9/30\n",
            "172/172 [==============================] - 0s 3ms/step - loss: 0.6790 - accuracy: 0.5669 - val_loss: 0.6837 - val_accuracy: 0.5583\n",
            "Epoch 10/30\n",
            "172/172 [==============================] - 0s 3ms/step - loss: 0.6782 - accuracy: 0.5675 - val_loss: 0.6861 - val_accuracy: 0.5540\n",
            "Epoch 11/30\n",
            "172/172 [==============================] - 0s 2ms/step - loss: 0.6780 - accuracy: 0.5693 - val_loss: 0.6858 - val_accuracy: 0.5463\n",
            "Epoch 12/30\n",
            "172/172 [==============================] - 0s 3ms/step - loss: 0.6773 - accuracy: 0.5692 - val_loss: 0.6833 - val_accuracy: 0.5593\n",
            "Epoch 13/30\n",
            "172/172 [==============================] - 0s 3ms/step - loss: 0.6774 - accuracy: 0.5679 - val_loss: 0.6845 - val_accuracy: 0.5523\n",
            "Epoch 14/30\n",
            "172/172 [==============================] - 0s 3ms/step - loss: 0.6765 - accuracy: 0.5710 - val_loss: 0.6841 - val_accuracy: 0.5557\n",
            "Epoch 15/30\n",
            "172/172 [==============================] - 0s 3ms/step - loss: 0.6764 - accuracy: 0.5744 - val_loss: 0.6848 - val_accuracy: 0.5570\n",
            "Epoch 16/30\n",
            "172/172 [==============================] - 0s 2ms/step - loss: 0.6752 - accuracy: 0.5746 - val_loss: 0.6866 - val_accuracy: 0.5533\n",
            "Epoch 17/30\n",
            "172/172 [==============================] - 0s 3ms/step - loss: 0.6754 - accuracy: 0.5733 - val_loss: 0.6839 - val_accuracy: 0.5540\n",
            "Epoch 18/30\n",
            "172/172 [==============================] - 0s 2ms/step - loss: 0.6749 - accuracy: 0.5739 - val_loss: 0.6843 - val_accuracy: 0.5567\n",
            "Epoch 19/30\n",
            "172/172 [==============================] - 0s 2ms/step - loss: 0.6740 - accuracy: 0.5755 - val_loss: 0.6880 - val_accuracy: 0.5550\n",
            "Epoch 20/30\n",
            "172/172 [==============================] - 0s 3ms/step - loss: 0.6742 - accuracy: 0.5765 - val_loss: 0.6854 - val_accuracy: 0.5543\n",
            "Epoch 21/30\n",
            "172/172 [==============================] - 0s 3ms/step - loss: 0.6738 - accuracy: 0.5752 - val_loss: 0.6868 - val_accuracy: 0.5540\n",
            "Epoch 22/30\n",
            "172/172 [==============================] - 0s 2ms/step - loss: 0.6725 - accuracy: 0.5777 - val_loss: 0.6835 - val_accuracy: 0.5537\n",
            "Epoch 23/30\n",
            "172/172 [==============================] - 0s 3ms/step - loss: 0.6717 - accuracy: 0.5792 - val_loss: 0.6853 - val_accuracy: 0.5640\n",
            "Epoch 24/30\n",
            "172/172 [==============================] - 0s 3ms/step - loss: 0.6719 - accuracy: 0.5801 - val_loss: 0.6852 - val_accuracy: 0.5527\n",
            "Epoch 25/30\n",
            "172/172 [==============================] - 0s 3ms/step - loss: 0.6719 - accuracy: 0.5791 - val_loss: 0.6858 - val_accuracy: 0.5587\n",
            "Epoch 26/30\n",
            "172/172 [==============================] - 0s 2ms/step - loss: 0.6711 - accuracy: 0.5816 - val_loss: 0.6867 - val_accuracy: 0.5467\n",
            "Epoch 27/30\n",
            "172/172 [==============================] - 0s 3ms/step - loss: 0.6702 - accuracy: 0.5842 - val_loss: 0.6856 - val_accuracy: 0.5517\n",
            "Epoch 28/30\n",
            "172/172 [==============================] - 0s 3ms/step - loss: 0.6709 - accuracy: 0.5817 - val_loss: 0.6840 - val_accuracy: 0.5647\n",
            "Epoch 29/30\n",
            "172/172 [==============================] - 0s 3ms/step - loss: 0.6692 - accuracy: 0.5846 - val_loss: 0.6867 - val_accuracy: 0.5473\n",
            "Epoch 30/30\n",
            "172/172 [==============================] - 0s 2ms/step - loss: 0.6687 - accuracy: 0.5855 - val_loss: 0.6842 - val_accuracy: 0.5560\n"
          ]
        },
        {
          "output_type": "execute_result",
          "data": {
            "text/plain": [
              "<tensorflow.python.keras.callbacks.History at 0x204f2c01848>"
            ]
          },
          "metadata": {},
          "execution_count": 16
        }
      ],
      "metadata": {}
    },
    {
      "cell_type": "code",
      "execution_count": null,
      "source": [],
      "outputs": [],
      "metadata": {}
    }
  ]
}