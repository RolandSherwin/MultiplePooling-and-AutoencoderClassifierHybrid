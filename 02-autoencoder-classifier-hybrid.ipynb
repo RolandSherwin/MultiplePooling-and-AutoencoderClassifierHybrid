{
  "nbformat": 4,
  "nbformat_minor": 2,
  "metadata": {
    "orig_nbformat": 4,
    "language_info": {
      "name": "python",
      "version": "3.7.9",
      "mimetype": "text/x-python",
      "codemirror_mode": {
        "name": "ipython",
        "version": 3
      },
      "pygments_lexer": "ipython3",
      "nbconvert_exporter": "python",
      "file_extension": ".py"
    },
    "kernelspec": {
      "name": "python3",
      "display_name": "Python 3.7.9 64-bit ('ml': conda)"
    },
    "interpreter": {
      "hash": "6b3ca784da768489958501c88883cb0bea2209d6cbfeece4e115b49d370e2f5b"
    },
    "colab": {
      "name": "02-autoencoder-classifier-hybrid.ipynb",
      "provenance": []
    }
  },
  "cells": [
    {
      "cell_type": "code",
      "execution_count": 1,
      "source": [
        "import os\r\n",
        "import re\r\n",
        "import itertools\r\n",
        "import numpy as np\r\n",
        "import pandas as pd\r\n",
        "import matplotlib.pyplot as plt\r\n",
        "%matplotlib inline\r\n",
        "import tensorflow as tf\r\n",
        "import tensorflow.keras as keras\r\n",
        "import spacy\r\n",
        "\r\n",
        "SEED = 42\r\n",
        "np.random.seed(SEED)\r\n",
        "AUTOTUNE = tf.data.AUTOTUNE"
      ],
      "outputs": [],
      "metadata": {
        "id": "3rZvcg02asS_"
      }
    },
    {
      "cell_type": "code",
      "execution_count": 20,
      "source": [
        "def convert_to_int(label):\r\n",
        "    if label == \"positive\":\r\n",
        "        return 1\r\n",
        "    elif label == \"negative\":\r\n",
        "        return 0\r\n",
        "    \r\n",
        "dataset = pd.read_csv(os.path.expanduser(\"~\\Downloads\\datasets\\IMDB-Dataset.csv\"))\r\n",
        "dataset['sentiment'] = dataset['sentiment'].map(convert_to_int)\r\n",
        "# dataset = pd.read_csv(\"/content/drive/MyDrive/IMDB-Dataset.csv\")\r\n",
        "train_ae = dataset.iloc[:44000, 0]\r\n",
        "val_ae = dataset.iloc[44000:47000, 0]\r\n",
        "test_ae = dataset.iloc[47000:, 0]\r\n",
        "\r\n",
        "train_y = dataset.iloc[:44000, 1]\r\n",
        "val_y = dataset.iloc[44000:47000, 1]\r\n",
        "test_y = dataset.iloc[47000:, 1]\r\n",
        "\r\n",
        "print(train_ae.head())\r\n",
        "print(\"\\n\", train_y.head())"
      ],
      "outputs": [
        {
          "output_type": "stream",
          "name": "stdout",
          "text": [
            "0    One of the other reviewers has mentioned that ...\n",
            "1    A wonderful little production. <br /><br />The...\n",
            "2    I thought this was a wonderful way to spend ti...\n",
            "3    Basically there's a family where a little boy ...\n",
            "4    Petter Mattei's \"Love in the Time of Money\" is...\n",
            "Name: review, dtype: object\n",
            "\n",
            " 0    1\n",
            "1    1\n",
            "2    1\n",
            "3    0\n",
            "4    1\n",
            "Name: sentiment, dtype: int64\n"
          ]
        }
      ],
      "metadata": {
        "colab": {
          "base_uri": "https://localhost:8080/"
        },
        "id": "_xs_8L6AasTF",
        "outputId": "49593a8b-79c2-4952-a338-e05f08775046"
      }
    },
    {
      "cell_type": "markdown",
      "source": [
        "# Tokenization"
      ],
      "metadata": {
        "id": "l2bxq0KmasTI"
      }
    },
    {
      "cell_type": "code",
      "execution_count": 21,
      "source": [
        "print(train_ae[1][:190])\r\n",
        "html_re = re.compile(r'<[^>]+>')\r\n",
        "train_ae = train_ae.replace(html_re, \"\", regex=True)\r\n",
        "print(train_ae[1][:190])"
      ],
      "outputs": [
        {
          "output_type": "stream",
          "name": "stdout",
          "text": [
            "A wonderful little production. <br /><br />The filming technique is very unassuming- very old-time-BBC fashion and gives a comforting, and sometimes discomforting, sense of realism to the en\n",
            "A wonderful little production. The filming technique is very unassuming- very old-time-BBC fashion and gives a comforting, and sometimes discomforting, sense of realism to the entire piece. \n"
          ]
        }
      ],
      "metadata": {
        "colab": {
          "base_uri": "https://localhost:8080/"
        },
        "id": "L0yZjK3FasTJ",
        "outputId": "9d8f8bc5-0fd1-476b-d180-268e87e45069"
      }
    },
    {
      "cell_type": "code",
      "execution_count": 22,
      "source": [
        "tokenizer = keras.preprocessing.text.Tokenizer(filters='!\"#$%&()*+,-./:;<=>?@[\\\\]^_`{|}~\\t\\n')\r\n",
        "tokenizer.fit_on_texts(train_ae)\r\n",
        "print(\"Word Indices: \")\r\n",
        "print(dict(itertools.islice(tokenizer.index_word.items(), 20)), \"...\")\r\n",
        "print(f\"Word Count: {len(tokenizer.word_index)}\")"
      ],
      "outputs": [
        {
          "output_type": "stream",
          "name": "stdout",
          "text": [
            "Word Indices: \n",
            "{1: 'the', 2: 'and', 3: 'a', 4: 'of', 5: 'to', 6: 'is', 7: 'in', 8: 'it', 9: 'i', 10: 'this', 11: 'that', 12: 'was', 13: 'as', 14: 'for', 15: 'with', 16: 'movie', 17: 'but', 18: 'film', 19: 'on', 20: 'not'} ...\n",
            "Word Count: 119224\n"
          ]
        }
      ],
      "metadata": {
        "colab": {
          "base_uri": "https://localhost:8080/"
        },
        "id": "YhBsV23SasTK",
        "outputId": "68fc1b75-335d-4f49-ab7a-bc770839a3f3"
      }
    },
    {
      "cell_type": "code",
      "execution_count": 23,
      "source": [
        "MAX_NUM_TOKENS = 20000\r\n",
        "tokenizer.num_words = MAX_NUM_TOKENS\r\n",
        "train_ae = train_ae.apply(lambda x: tokenizer.texts_to_sequences([x])[0])\r\n",
        "val_ae = val_ae.apply(lambda x: tokenizer.texts_to_sequences([x])[0])\r\n",
        "test_ae = test_ae.apply(lambda x: tokenizer.texts_to_sequences([x])[0])\r\n",
        "\r\n",
        "train_ae.head()"
      ],
      "outputs": [
        {
          "output_type": "execute_result",
          "data": {
            "text/plain": [
              "0    [26, 4, 1, 79, 2077, 44, 1059, 11, 98, 146, 38...\n",
              "1    [3, 393, 119, 353, 1, 1350, 2947, 6, 51, 18582...\n",
              "2    [9, 190, 10, 12, 3, 393, 94, 5, 1133, 54, 19, ...\n",
              "3    [689, 221, 3, 232, 116, 3, 119, 426, 3595, 128...\n",
              "4    [111, 7, 1, 54, 4, 287, 6, 3, 2074, 1438, 18, ...\n",
              "Name: review, dtype: object"
            ]
          },
          "metadata": {},
          "execution_count": 23
        }
      ],
      "metadata": {
        "colab": {
          "base_uri": "https://localhost:8080/"
        },
        "id": "uqr3epOgasTL",
        "outputId": "b7e08bd2-4a6e-4bcb-96a2-cd9603ccfbf2"
      }
    },
    {
      "cell_type": "markdown",
      "source": [
        "# Padding"
      ],
      "metadata": {
        "id": "u6OQJHMjasTM"
      }
    },
    {
      "cell_type": "code",
      "execution_count": 24,
      "source": [
        "print('sequence_length mean: ', train_ae.apply(lambda x: len(x)).mean())\r\n",
        "print('sequence_length median: ', train_ae.apply(lambda x: len(x)).median())\r\n",
        "print('sequence_length std deviation: ', np.sqrt(train_ae.apply(lambda x: len(x)).var()))\r\n",
        "MAX_SEQUENCE_LENGTH = 300 # mean + std deviation*0.5"
      ],
      "outputs": [
        {
          "output_type": "stream",
          "name": "stdout",
          "text": [
            "sequence_length mean:  224.09893181818182\n",
            "sequence_length median:  169.0\n",
            "sequence_length std deviation:  164.80941972297364\n"
          ]
        }
      ],
      "metadata": {
        "colab": {
          "base_uri": "https://localhost:8080/"
        },
        "id": "Ky6hzR38asTM",
        "outputId": "e15b0584-6c6a-4cec-ef7d-9db7b71bb3c8"
      }
    },
    {
      "cell_type": "code",
      "execution_count": 25,
      "source": [
        "train_ae = keras.preprocessing.sequence.pad_sequences(train_ae, maxlen=MAX_SEQUENCE_LENGTH, padding='post', truncating='post')\r\n",
        "val_ae = keras.preprocessing.sequence.pad_sequences(val_ae, maxlen=MAX_SEQUENCE_LENGTH, padding='post', truncating='post')\r\n",
        "test_ae = keras.preprocessing.sequence.pad_sequences(test_ae, maxlen=MAX_SEQUENCE_LENGTH, padding='post', truncating='post')\r\n",
        "print(train_ae)"
      ],
      "outputs": [
        {
          "output_type": "stream",
          "name": "stdout",
          "text": [
            "[[  26    4    1 ...  124 4081  485]\n",
            " [   3  393  119 ...    0    0    0]\n",
            " [   9  190   10 ...    0    0    0]\n",
            " ...\n",
            " [   1 3047    5 ...   15 2055    1]\n",
            " [ 528   10   26 ...    0    0    0]\n",
            " [   9  152   24 ...    0    0    0]]\n"
          ]
        }
      ],
      "metadata": {
        "colab": {
          "base_uri": "https://localhost:8080/"
        },
        "id": "lPEZS3vVasTN",
        "outputId": "1f612f8f-2381-4427-9ed2-4f37d962d55e"
      }
    },
    {
      "cell_type": "markdown",
      "source": [
        "# Word to Vector"
      ],
      "metadata": {
        "id": "j4zFELEFasTO"
      }
    },
    {
      "cell_type": "code",
      "execution_count": 26,
      "source": [
        "word2vec_model = spacy.load(\"en_core_web_sm\")\r\n",
        "\r\n",
        "df_index_word = pd.Series(tokenizer.index_word) # Get all the words in the vocabulary\r\n",
        "df_index_word = df_index_word[:MAX_NUM_TOKENS-1]\r\n",
        "df_index_word = pd.Series([\"temp_oov_word\"]).append(df_index_word) # Add a temporary row for oov words\r\n",
        "df_index_word = df_index_word.reset_index() # New column for token_id\r\n",
        "df_index_word.columns = ['token_id', 'token']\r\n",
        "\r\n",
        "\r\n",
        "df_index_word['word2vec'] = df_index_word.token.apply(lambda x: word2vec_model(x).vector) # Embedding for each word\r\n",
        "# df_index_word['is_oov'] = df_index_word.token.apply(lambda x: word2vec_model(x)[0].is_oov) # Bool stating if it is a oov word\r\n",
        "df_index_word.at[0, \"word2vec\"] = np.zeros_like(df_index_word.at[0, \"word2vec\"]) # Replace the embedding for \"temp_oov_word\" with 0s\r\n",
        "df_index_word.head()"
      ],
      "outputs": [
        {
          "output_type": "execute_result",
          "data": {
            "text/html": [
              "<div>\n",
              "<style scoped>\n",
              "    .dataframe tbody tr th:only-of-type {\n",
              "        vertical-align: middle;\n",
              "    }\n",
              "\n",
              "    .dataframe tbody tr th {\n",
              "        vertical-align: top;\n",
              "    }\n",
              "\n",
              "    .dataframe thead th {\n",
              "        text-align: right;\n",
              "    }\n",
              "</style>\n",
              "<table border=\"1\" class=\"dataframe\">\n",
              "  <thead>\n",
              "    <tr style=\"text-align: right;\">\n",
              "      <th></th>\n",
              "      <th>token_id</th>\n",
              "      <th>token</th>\n",
              "      <th>word2vec</th>\n",
              "    </tr>\n",
              "  </thead>\n",
              "  <tbody>\n",
              "    <tr>\n",
              "      <th>0</th>\n",
              "      <td>0</td>\n",
              "      <td>temp_oov_word</td>\n",
              "      <td>[0.0, 0.0, 0.0, 0.0, 0.0, 0.0, 0.0, 0.0, 0.0, ...</td>\n",
              "    </tr>\n",
              "    <tr>\n",
              "      <th>1</th>\n",
              "      <td>1</td>\n",
              "      <td>the</td>\n",
              "      <td>[-0.2032743, -0.4009009, -0.73730505, 0.536398...</td>\n",
              "    </tr>\n",
              "    <tr>\n",
              "      <th>2</th>\n",
              "      <td>2</td>\n",
              "      <td>and</td>\n",
              "      <td>[-0.9291044, -0.13172856, -0.814826, 0.6040276...</td>\n",
              "    </tr>\n",
              "    <tr>\n",
              "      <th>3</th>\n",
              "      <td>3</td>\n",
              "      <td>a</td>\n",
              "      <td>[0.02819018, 0.009864252, -0.095220566, 0.5522...</td>\n",
              "    </tr>\n",
              "    <tr>\n",
              "      <th>4</th>\n",
              "      <td>4</td>\n",
              "      <td>of</td>\n",
              "      <td>[-1.1193825, 0.18575507, -0.59173, -0.4724092,...</td>\n",
              "    </tr>\n",
              "  </tbody>\n",
              "</table>\n",
              "</div>"
            ],
            "text/plain": [
              "   token_id          token                                           word2vec\n",
              "0         0  temp_oov_word  [0.0, 0.0, 0.0, 0.0, 0.0, 0.0, 0.0, 0.0, 0.0, ...\n",
              "1         1            the  [-0.2032743, -0.4009009, -0.73730505, 0.536398...\n",
              "2         2            and  [-0.9291044, -0.13172856, -0.814826, 0.6040276...\n",
              "3         3              a  [0.02819018, 0.009864252, -0.095220566, 0.5522...\n",
              "4         4             of  [-1.1193825, 0.18575507, -0.59173, -0.4724092,..."
            ]
          },
          "metadata": {},
          "execution_count": 26
        }
      ],
      "metadata": {
        "colab": {
          "base_uri": "https://localhost:8080/"
        },
        "id": "4IQSBGYsasTP",
        "outputId": "1c74bf68-4879-4e0c-c409-f17b8fa8d5de"
      }
    },
    {
      "cell_type": "code",
      "execution_count": 27,
      "source": [
        "embedding_matrix = np.array([vec for vec in df_index_word.word2vec.values])\r\n",
        "print(embedding_matrix.shape) # MAX_NUM_TOKENS x vector dim \r\n",
        "embedding_matrix[0:3, :5]"
      ],
      "outputs": [
        {
          "output_type": "stream",
          "name": "stdout",
          "text": [
            "(20000, 96)\n"
          ]
        },
        {
          "output_type": "execute_result",
          "data": {
            "text/plain": [
              "array([[ 0.        ,  0.        ,  0.        ,  0.        ,  0.        ],\n",
              "       [-0.2032743 , -0.4009009 , -0.73730505,  0.5363982 ,  0.3764372 ],\n",
              "       [-0.9291044 , -0.13172856, -0.814826  ,  0.6040276 , -0.67340827]],\n",
              "      dtype=float32)"
            ]
          },
          "metadata": {},
          "execution_count": 27
        }
      ],
      "metadata": {
        "colab": {
          "base_uri": "https://localhost:8080/"
        },
        "id": "GjIg_qvLasTP",
        "outputId": "48da28d9-1024-4b41-aa6f-f592a7bac5fb"
      }
    },
    {
      "cell_type": "code",
      "execution_count": 28,
      "source": [
        "# MAX_NUM_TOKENS = 20000\r\n",
        "# MAX_SEQUENCE_LENGTH = 300\r\n",
        "EMBEDDING_DIM = embedding_matrix.shape[1] #96\r\n",
        "embedding_layer = keras.layers.Embedding(\r\n",
        "    input_dim=MAX_NUM_TOKENS,\r\n",
        "    output_dim=EMBEDDING_DIM,\r\n",
        "    embeddings_initializer=keras.initializers.Constant(embedding_matrix),\r\n",
        "    input_length=MAX_SEQUENCE_LENGTH,\r\n",
        "    mask_zero=True,\r\n",
        "    trainable=False)\r\n",
        "\r\n",
        "# test\r\n",
        "embedding_result = embedding_layer(inputs=train_ae[0])\r\n",
        "print(embedding_result.shape) # MAX_SEQUENCE_LENGTH x EMBEDDING_DIM\r\n",
        "print(\"Embeddings of the first 5 words (each vector is restricted to size 5)\")\r\n",
        "print(train_ae[0][:5])\r\n",
        "print(embedding_result[:5, :5]) \r\n",
        "\r\n",
        "train_ae = embedding_layer(inputs=train_ae)\r\n",
        "val_ae = embedding_layer(inputs=val_ae)\r\n",
        "test_ae = embedding_layer(inputs=test_ae)"
      ],
      "outputs": [
        {
          "output_type": "stream",
          "name": "stdout",
          "text": [
            "(300, 96)\n",
            "Embeddings of the first 5 words (each vector is restricted to size 5)\n",
            "[  26    4    1   79 2077]\n",
            "tf.Tensor(\n",
            "[[ 0.49959356  0.704657    0.4497372   0.32913145  0.01701519]\n",
            " [-1.1193825   0.18575507 -0.59173    -0.4724092   0.04607756]\n",
            " [-0.2032743  -0.4009009  -0.73730505  0.5363982   0.3764372 ]\n",
            " [-0.33528453 -0.5446908   0.7285543  -0.51831293  0.10952553]\n",
            " [-0.39640257  0.09997782 -0.0515418   0.10987999  0.6886112 ]], shape=(5, 5), dtype=float32)\n"
          ]
        }
      ],
      "metadata": {
        "colab": {
          "base_uri": "https://localhost:8080/"
        },
        "id": "iCnrIUeOasTQ",
        "outputId": "02685cab-4801-4816-d972-96601ec52ec8"
      }
    },
    {
      "cell_type": "code",
      "execution_count": 45,
      "source": [
        "conv_encoder = keras.models.Sequential([\r\n",
        "    keras.layers.Reshape([MAX_SEQUENCE_LENGTH, EMBEDDING_DIM, 1], input_shape=[MAX_SEQUENCE_LENGTH, EMBEDDING_DIM]),\r\n",
        "    keras.layers.Conv2D(filters=96, kernel_size=4, strides=2),\r\n",
        "    keras.layers.MaxPool2D(pool_size=4),\r\n",
        "    keras.layers.Activation('selu'),\r\n",
        "    \r\n",
        "    keras.layers.Conv2D(filters=128, kernel_size=4, strides=2),\r\n",
        "    keras.layers.MaxPool2D(pool_size=4),\r\n",
        "    keras.layers.Activation('selu'),\r\n",
        "    \r\n",
        "    # try with just another conv2D, pool, activation layer without using fully conv layers.\r\n",
        "    keras.layers.Conv2D(filters=256, kernel_size=(4,1)), # fully convolutional layer, same kernel size as input size.\r\n",
        "    keras.layers.Conv2D(filters=50, kernel_size=(1,1)), # fully conv layer\r\n",
        "    keras.layers.Reshape([50])\r\n",
        "])\r\n",
        "conv_decoder = keras.models.Sequential([\r\n",
        "    # kernel size and strides are chosen such that we get 300x96 = 28800 = 180x160 dimensions.\r\n",
        "    keras.layers.Reshape([1,1,50], input_shape=[50]),\r\n",
        "    keras.layers.Conv2DTranspose(64, kernel_size=4, strides=2, padding='valid', input_shape=[1,1,50]),\r\n",
        "    keras.layers.BatchNormalization(),\r\n",
        "    keras.layers.Conv2DTranspose(32, kernel_size=16, strides=4, padding='valid', activation='linear'),\r\n",
        "    keras.layers.BatchNormalization(),\r\n",
        "    keras.layers.Conv2DTranspose(16, kernel_size=26, strides=2, padding='valid', activation='linear'),\r\n",
        "    keras.layers.BatchNormalization(),\r\n",
        "    keras.layers.Conv2DTranspose(1, kernel_size=(22, 1), strides=2, padding='valid', activation='linear'), \r\n",
        "    keras.layers.Reshape([MAX_SEQUENCE_LENGTH, EMBEDDING_DIM])\r\n",
        "])\r\n",
        "conv_ae = keras.models.Sequential([conv_encoder, conv_decoder])\r\n",
        "for l in conv_ae.layers:\r\n",
        "    l.summary()"
      ],
      "outputs": [
        {
          "output_type": "stream",
          "name": "stdout",
          "text": [
            "Model: \"sequential_6\"\n",
            "_________________________________________________________________\n",
            "Layer (type)                 Output Shape              Param #   \n",
            "=================================================================\n",
            "reshape_8 (Reshape)          (None, 300, 96, 1)        0         \n",
            "_________________________________________________________________\n",
            "conv2d_8 (Conv2D)            (None, 149, 47, 96)       1632      \n",
            "_________________________________________________________________\n",
            "max_pooling2d_4 (MaxPooling2 (None, 37, 11, 96)        0         \n",
            "_________________________________________________________________\n",
            "activation_4 (Activation)    (None, 37, 11, 96)        0         \n",
            "_________________________________________________________________\n",
            "conv2d_9 (Conv2D)            (None, 17, 4, 128)        196736    \n",
            "_________________________________________________________________\n",
            "max_pooling2d_5 (MaxPooling2 (None, 4, 1, 128)         0         \n",
            "_________________________________________________________________\n",
            "activation_5 (Activation)    (None, 4, 1, 128)         0         \n",
            "_________________________________________________________________\n",
            "conv2d_10 (Conv2D)           (None, 1, 1, 256)         131328    \n",
            "_________________________________________________________________\n",
            "conv2d_11 (Conv2D)           (None, 1, 1, 50)          12850     \n",
            "_________________________________________________________________\n",
            "reshape_9 (Reshape)          (None, 50)                0         \n",
            "=================================================================\n",
            "Total params: 342,546\n",
            "Trainable params: 342,546\n",
            "Non-trainable params: 0\n",
            "_________________________________________________________________\n",
            "Model: \"sequential_7\"\n",
            "_________________________________________________________________\n",
            "Layer (type)                 Output Shape              Param #   \n",
            "=================================================================\n",
            "reshape_10 (Reshape)         (None, 1, 1, 50)          0         \n",
            "_________________________________________________________________\n",
            "conv2d_transpose_8 (Conv2DTr (None, 4, 4, 64)          51264     \n",
            "_________________________________________________________________\n",
            "batch_normalization_6 (Batch (None, 4, 4, 64)          256       \n",
            "_________________________________________________________________\n",
            "conv2d_transpose_9 (Conv2DTr (None, 28, 28, 32)        524320    \n",
            "_________________________________________________________________\n",
            "batch_normalization_7 (Batch (None, 28, 28, 32)        128       \n",
            "_________________________________________________________________\n",
            "conv2d_transpose_10 (Conv2DT (None, 80, 80, 16)        346128    \n",
            "_________________________________________________________________\n",
            "batch_normalization_8 (Batch (None, 80, 80, 16)        64        \n",
            "_________________________________________________________________\n",
            "conv2d_transpose_11 (Conv2DT (None, 180, 160, 1)       353       \n",
            "_________________________________________________________________\n",
            "reshape_11 (Reshape)         (None, 300, 96)           0         \n",
            "=================================================================\n",
            "Total params: 922,513\n",
            "Trainable params: 922,289\n",
            "Non-trainable params: 224\n",
            "_________________________________________________________________\n"
          ]
        }
      ],
      "metadata": {}
    },
    {
      "cell_type": "code",
      "execution_count": 46,
      "source": [
        "conv_ae.compile(optimizer='adam', loss='mse') # metrics='accuracy' is useful only when doing classification\r\n",
        "conv_ae.fit(x=train_ae, y=train_ae, epochs=20, batch_size=256, validation_data=(val_ae, val_ae))"
      ],
      "outputs": [
        {
          "output_type": "stream",
          "name": "stdout",
          "text": [
            "Epoch 1/20\n",
            "172/172 [==============================] - 34s 193ms/step - loss: 0.2339 - val_loss: 0.2219\n",
            "Epoch 2/20\n",
            " 68/172 [==========>...................] - ETA: 19s - loss: 0.2202"
          ]
        }
      ],
      "metadata": {}
    },
    {
      "cell_type": "code",
      "execution_count": 43,
      "source": [
        "encoder_classifier = keras.models.clone_model(conv_encoder)\r\n",
        "encoder_classifier.add(keras.layers.Dense(24, activation='selu'))\r\n",
        "encoder_classifier.add(keras.layers.Dense(1, activation='sigmoid'))\r\n",
        "encoder_classifier.summary()"
      ],
      "outputs": [
        {
          "output_type": "stream",
          "name": "stdout",
          "text": [
            "Model: \"sequential_3\"\n",
            "_________________________________________________________________\n",
            "Layer (type)                 Output Shape              Param #   \n",
            "=================================================================\n",
            "reshape_4 (Reshape)          (None, 300, 96, 1)        0         \n",
            "_________________________________________________________________\n",
            "conv2d_4 (Conv2D)            (None, 149, 47, 96)       1632      \n",
            "_________________________________________________________________\n",
            "max_pooling2d_2 (MaxPooling2 (None, 37, 11, 96)        0         \n",
            "_________________________________________________________________\n",
            "activation_2 (Activation)    (None, 37, 11, 96)        0         \n",
            "_________________________________________________________________\n",
            "conv2d_5 (Conv2D)            (None, 17, 4, 128)        196736    \n",
            "_________________________________________________________________\n",
            "max_pooling2d_3 (MaxPooling2 (None, 4, 1, 128)         0         \n",
            "_________________________________________________________________\n",
            "activation_3 (Activation)    (None, 4, 1, 128)         0         \n",
            "_________________________________________________________________\n",
            "conv2d_6 (Conv2D)            (None, 1, 1, 256)         131328    \n",
            "_________________________________________________________________\n",
            "conv2d_7 (Conv2D)            (None, 1, 1, 50)          12850     \n",
            "_________________________________________________________________\n",
            "reshape_5 (Reshape)          (None, 50)                0         \n",
            "_________________________________________________________________\n",
            "dense_8 (Dense)              (None, 24)                1224      \n",
            "_________________________________________________________________\n",
            "dense_9 (Dense)              (None, 1)                 25        \n",
            "=================================================================\n",
            "Total params: 343,795\n",
            "Trainable params: 343,795\n",
            "Non-trainable params: 0\n",
            "_________________________________________________________________\n"
          ]
        }
      ],
      "metadata": {}
    },
    {
      "cell_type": "code",
      "execution_count": 36,
      "source": [
        "encoder_classifier.compile(optimizer='adam', loss='binary_crossentropy', metrics='accuracy')\r\n",
        "encoder_classifier.fit(x=train_ae, y=tf.convert_to_tensor(train_y), epochs=30, batch_size=256, validation_data=(val_ae, tf.convert_to_tensor(val_y)))"
      ],
      "outputs": [
        {
          "output_type": "stream",
          "name": "stdout",
          "text": [
            "Epoch 1/30\n",
            "172/172 [==============================] - 10s 53ms/step - loss: 0.7121 - accuracy: 0.5100 - val_loss: 0.6922 - val_accuracy: 0.5227\n",
            "Epoch 2/30\n",
            "172/172 [==============================] - 9s 53ms/step - loss: 0.6915 - accuracy: 0.5252 - val_loss: 0.6826 - val_accuracy: 0.5420\n",
            "Epoch 3/30\n",
            "172/172 [==============================] - 9s 52ms/step - loss: 0.6674 - accuracy: 0.5928 - val_loss: 0.6609 - val_accuracy: 0.6013\n",
            "Epoch 4/30\n",
            "172/172 [==============================] - 9s 53ms/step - loss: 0.6465 - accuracy: 0.6248 - val_loss: 0.6302 - val_accuracy: 0.6437\n",
            "Epoch 5/30\n",
            "172/172 [==============================] - 9s 53ms/step - loss: 0.6240 - accuracy: 0.6529 - val_loss: 0.6304 - val_accuracy: 0.6377\n",
            "Epoch 6/30\n",
            "172/172 [==============================] - 9s 52ms/step - loss: 0.6062 - accuracy: 0.6697 - val_loss: 0.6203 - val_accuracy: 0.6677\n",
            "Epoch 7/30\n",
            "172/172 [==============================] - 9s 53ms/step - loss: 0.5812 - accuracy: 0.6920 - val_loss: 0.6050 - val_accuracy: 0.6687\n",
            "Epoch 8/30\n",
            "172/172 [==============================] - 9s 52ms/step - loss: 0.5445 - accuracy: 0.7233 - val_loss: 0.6382 - val_accuracy: 0.6547\n",
            "Epoch 9/30\n",
            "172/172 [==============================] - 9s 51ms/step - loss: 0.4995 - accuracy: 0.7551 - val_loss: 0.6255 - val_accuracy: 0.6733\n",
            "Epoch 10/30\n",
            "172/172 [==============================] - 9s 51ms/step - loss: 0.4370 - accuracy: 0.7961 - val_loss: 0.6705 - val_accuracy: 0.6667\n",
            "Epoch 11/30\n",
            "172/172 [==============================] - 9s 52ms/step - loss: 0.3504 - accuracy: 0.8448 - val_loss: 0.8007 - val_accuracy: 0.6550\n",
            "Epoch 12/30\n",
            "172/172 [==============================] - 9s 52ms/step - loss: 0.2777 - accuracy: 0.8797 - val_loss: 0.8968 - val_accuracy: 0.6587\n",
            "Epoch 13/30\n",
            "172/172 [==============================] - 9s 52ms/step - loss: 0.2215 - accuracy: 0.9064 - val_loss: 0.9474 - val_accuracy: 0.6480\n",
            "Epoch 14/30\n",
            "172/172 [==============================] - 9s 53ms/step - loss: 0.1530 - accuracy: 0.9375 - val_loss: 1.2177 - val_accuracy: 0.6570\n",
            "Epoch 15/30\n",
            "172/172 [==============================] - 9s 53ms/step - loss: 0.1308 - accuracy: 0.9462 - val_loss: 1.3742 - val_accuracy: 0.6463\n",
            "Epoch 16/30\n",
            " 42/172 [======>.......................] - ETA: 6s - loss: 0.1085 - accuracy: 0.9573"
          ]
        },
        {
          "output_type": "error",
          "ename": "KeyboardInterrupt",
          "evalue": "",
          "traceback": [
            "\u001b[1;31m---------------------------------------------------------------------------\u001b[0m",
            "\u001b[1;31mKeyboardInterrupt\u001b[0m                         Traceback (most recent call last)",
            "\u001b[1;32m<ipython-input-36-771db3996953>\u001b[0m in \u001b[0;36m<module>\u001b[1;34m\u001b[0m\n\u001b[0;32m      1\u001b[0m \u001b[0mencoder_classifier\u001b[0m\u001b[1;33m.\u001b[0m\u001b[0mcompile\u001b[0m\u001b[1;33m(\u001b[0m\u001b[0moptimizer\u001b[0m\u001b[1;33m=\u001b[0m\u001b[1;34m'adam'\u001b[0m\u001b[1;33m,\u001b[0m \u001b[0mloss\u001b[0m\u001b[1;33m=\u001b[0m\u001b[1;34m'binary_crossentropy'\u001b[0m\u001b[1;33m,\u001b[0m \u001b[0mmetrics\u001b[0m\u001b[1;33m=\u001b[0m\u001b[1;34m'accuracy'\u001b[0m\u001b[1;33m)\u001b[0m\u001b[1;33m\u001b[0m\u001b[1;33m\u001b[0m\u001b[0m\n\u001b[1;32m----> 2\u001b[1;33m \u001b[0mencoder_classifier\u001b[0m\u001b[1;33m.\u001b[0m\u001b[0mfit\u001b[0m\u001b[1;33m(\u001b[0m\u001b[0mx\u001b[0m\u001b[1;33m=\u001b[0m\u001b[0mtrain_ae\u001b[0m\u001b[1;33m,\u001b[0m \u001b[0my\u001b[0m\u001b[1;33m=\u001b[0m\u001b[0mtf\u001b[0m\u001b[1;33m.\u001b[0m\u001b[0mconvert_to_tensor\u001b[0m\u001b[1;33m(\u001b[0m\u001b[0mtrain_y\u001b[0m\u001b[1;33m)\u001b[0m\u001b[1;33m,\u001b[0m \u001b[0mepochs\u001b[0m\u001b[1;33m=\u001b[0m\u001b[1;36m30\u001b[0m\u001b[1;33m,\u001b[0m \u001b[0mbatch_size\u001b[0m\u001b[1;33m=\u001b[0m\u001b[1;36m256\u001b[0m\u001b[1;33m,\u001b[0m \u001b[0mvalidation_data\u001b[0m\u001b[1;33m=\u001b[0m\u001b[1;33m(\u001b[0m\u001b[0mval_ae\u001b[0m\u001b[1;33m,\u001b[0m \u001b[0mtf\u001b[0m\u001b[1;33m.\u001b[0m\u001b[0mconvert_to_tensor\u001b[0m\u001b[1;33m(\u001b[0m\u001b[0mval_y\u001b[0m\u001b[1;33m)\u001b[0m\u001b[1;33m)\u001b[0m\u001b[1;33m)\u001b[0m\u001b[1;33m\u001b[0m\u001b[1;33m\u001b[0m\u001b[0m\n\u001b[0m",
            "\u001b[1;32m~\\anaconda3\\envs\\ml\\lib\\site-packages\\tensorflow\\python\\keras\\engine\\training.py\u001b[0m in \u001b[0;36mfit\u001b[1;34m(self, x, y, batch_size, epochs, verbose, callbacks, validation_split, validation_data, shuffle, class_weight, sample_weight, initial_epoch, steps_per_epoch, validation_steps, validation_batch_size, validation_freq, max_queue_size, workers, use_multiprocessing)\u001b[0m\n\u001b[0;32m   1186\u001b[0m               \u001b[0mlogs\u001b[0m \u001b[1;33m=\u001b[0m \u001b[0mtmp_logs\u001b[0m  \u001b[1;31m# No error, now safe to assign to logs.\u001b[0m\u001b[1;33m\u001b[0m\u001b[1;33m\u001b[0m\u001b[0m\n\u001b[0;32m   1187\u001b[0m               \u001b[0mend_step\u001b[0m \u001b[1;33m=\u001b[0m \u001b[0mstep\u001b[0m \u001b[1;33m+\u001b[0m \u001b[0mdata_handler\u001b[0m\u001b[1;33m.\u001b[0m\u001b[0mstep_increment\u001b[0m\u001b[1;33m\u001b[0m\u001b[1;33m\u001b[0m\u001b[0m\n\u001b[1;32m-> 1188\u001b[1;33m               \u001b[0mcallbacks\u001b[0m\u001b[1;33m.\u001b[0m\u001b[0mon_train_batch_end\u001b[0m\u001b[1;33m(\u001b[0m\u001b[0mend_step\u001b[0m\u001b[1;33m,\u001b[0m \u001b[0mlogs\u001b[0m\u001b[1;33m)\u001b[0m\u001b[1;33m\u001b[0m\u001b[1;33m\u001b[0m\u001b[0m\n\u001b[0m\u001b[0;32m   1189\u001b[0m               \u001b[1;32mif\u001b[0m \u001b[0mself\u001b[0m\u001b[1;33m.\u001b[0m\u001b[0mstop_training\u001b[0m\u001b[1;33m:\u001b[0m\u001b[1;33m\u001b[0m\u001b[1;33m\u001b[0m\u001b[0m\n\u001b[0;32m   1190\u001b[0m                 \u001b[1;32mbreak\u001b[0m\u001b[1;33m\u001b[0m\u001b[1;33m\u001b[0m\u001b[0m\n",
            "\u001b[1;32m~\\anaconda3\\envs\\ml\\lib\\site-packages\\tensorflow\\python\\keras\\callbacks.py\u001b[0m in \u001b[0;36mon_train_batch_end\u001b[1;34m(self, batch, logs)\u001b[0m\n\u001b[0;32m    455\u001b[0m     \"\"\"\n\u001b[0;32m    456\u001b[0m     \u001b[1;32mif\u001b[0m \u001b[0mself\u001b[0m\u001b[1;33m.\u001b[0m\u001b[0m_should_call_train_batch_hooks\u001b[0m\u001b[1;33m:\u001b[0m\u001b[1;33m\u001b[0m\u001b[1;33m\u001b[0m\u001b[0m\n\u001b[1;32m--> 457\u001b[1;33m       \u001b[0mself\u001b[0m\u001b[1;33m.\u001b[0m\u001b[0m_call_batch_hook\u001b[0m\u001b[1;33m(\u001b[0m\u001b[0mModeKeys\u001b[0m\u001b[1;33m.\u001b[0m\u001b[0mTRAIN\u001b[0m\u001b[1;33m,\u001b[0m \u001b[1;34m'end'\u001b[0m\u001b[1;33m,\u001b[0m \u001b[0mbatch\u001b[0m\u001b[1;33m,\u001b[0m \u001b[0mlogs\u001b[0m\u001b[1;33m=\u001b[0m\u001b[0mlogs\u001b[0m\u001b[1;33m)\u001b[0m\u001b[1;33m\u001b[0m\u001b[1;33m\u001b[0m\u001b[0m\n\u001b[0m\u001b[0;32m    458\u001b[0m \u001b[1;33m\u001b[0m\u001b[0m\n\u001b[0;32m    459\u001b[0m   \u001b[1;32mdef\u001b[0m \u001b[0mon_test_batch_begin\u001b[0m\u001b[1;33m(\u001b[0m\u001b[0mself\u001b[0m\u001b[1;33m,\u001b[0m \u001b[0mbatch\u001b[0m\u001b[1;33m,\u001b[0m \u001b[0mlogs\u001b[0m\u001b[1;33m=\u001b[0m\u001b[1;32mNone\u001b[0m\u001b[1;33m)\u001b[0m\u001b[1;33m:\u001b[0m\u001b[1;33m\u001b[0m\u001b[1;33m\u001b[0m\u001b[0m\n",
            "\u001b[1;32m~\\anaconda3\\envs\\ml\\lib\\site-packages\\tensorflow\\python\\keras\\callbacks.py\u001b[0m in \u001b[0;36m_call_batch_hook\u001b[1;34m(self, mode, hook, batch, logs)\u001b[0m\n\u001b[0;32m    315\u001b[0m       \u001b[0mself\u001b[0m\u001b[1;33m.\u001b[0m\u001b[0m_call_batch_begin_hook\u001b[0m\u001b[1;33m(\u001b[0m\u001b[0mmode\u001b[0m\u001b[1;33m,\u001b[0m \u001b[0mbatch\u001b[0m\u001b[1;33m,\u001b[0m \u001b[0mlogs\u001b[0m\u001b[1;33m)\u001b[0m\u001b[1;33m\u001b[0m\u001b[1;33m\u001b[0m\u001b[0m\n\u001b[0;32m    316\u001b[0m     \u001b[1;32melif\u001b[0m \u001b[0mhook\u001b[0m \u001b[1;33m==\u001b[0m \u001b[1;34m'end'\u001b[0m\u001b[1;33m:\u001b[0m\u001b[1;33m\u001b[0m\u001b[1;33m\u001b[0m\u001b[0m\n\u001b[1;32m--> 317\u001b[1;33m       \u001b[0mself\u001b[0m\u001b[1;33m.\u001b[0m\u001b[0m_call_batch_end_hook\u001b[0m\u001b[1;33m(\u001b[0m\u001b[0mmode\u001b[0m\u001b[1;33m,\u001b[0m \u001b[0mbatch\u001b[0m\u001b[1;33m,\u001b[0m \u001b[0mlogs\u001b[0m\u001b[1;33m)\u001b[0m\u001b[1;33m\u001b[0m\u001b[1;33m\u001b[0m\u001b[0m\n\u001b[0m\u001b[0;32m    318\u001b[0m     \u001b[1;32melse\u001b[0m\u001b[1;33m:\u001b[0m\u001b[1;33m\u001b[0m\u001b[1;33m\u001b[0m\u001b[0m\n\u001b[0;32m    319\u001b[0m       \u001b[1;32mraise\u001b[0m \u001b[0mValueError\u001b[0m\u001b[1;33m(\u001b[0m\u001b[1;34m'Unrecognized hook: {}'\u001b[0m\u001b[1;33m.\u001b[0m\u001b[0mformat\u001b[0m\u001b[1;33m(\u001b[0m\u001b[0mhook\u001b[0m\u001b[1;33m)\u001b[0m\u001b[1;33m)\u001b[0m\u001b[1;33m\u001b[0m\u001b[1;33m\u001b[0m\u001b[0m\n",
            "\u001b[1;32m~\\anaconda3\\envs\\ml\\lib\\site-packages\\tensorflow\\python\\keras\\callbacks.py\u001b[0m in \u001b[0;36m_call_batch_end_hook\u001b[1;34m(self, mode, batch, logs)\u001b[0m\n\u001b[0;32m    335\u001b[0m       \u001b[0mself\u001b[0m\u001b[1;33m.\u001b[0m\u001b[0m_batch_times\u001b[0m\u001b[1;33m.\u001b[0m\u001b[0mappend\u001b[0m\u001b[1;33m(\u001b[0m\u001b[0mbatch_time\u001b[0m\u001b[1;33m)\u001b[0m\u001b[1;33m\u001b[0m\u001b[1;33m\u001b[0m\u001b[0m\n\u001b[0;32m    336\u001b[0m \u001b[1;33m\u001b[0m\u001b[0m\n\u001b[1;32m--> 337\u001b[1;33m     \u001b[0mself\u001b[0m\u001b[1;33m.\u001b[0m\u001b[0m_call_batch_hook_helper\u001b[0m\u001b[1;33m(\u001b[0m\u001b[0mhook_name\u001b[0m\u001b[1;33m,\u001b[0m \u001b[0mbatch\u001b[0m\u001b[1;33m,\u001b[0m \u001b[0mlogs\u001b[0m\u001b[1;33m)\u001b[0m\u001b[1;33m\u001b[0m\u001b[1;33m\u001b[0m\u001b[0m\n\u001b[0m\u001b[0;32m    338\u001b[0m \u001b[1;33m\u001b[0m\u001b[0m\n\u001b[0;32m    339\u001b[0m     \u001b[1;32mif\u001b[0m \u001b[0mlen\u001b[0m\u001b[1;33m(\u001b[0m\u001b[0mself\u001b[0m\u001b[1;33m.\u001b[0m\u001b[0m_batch_times\u001b[0m\u001b[1;33m)\u001b[0m \u001b[1;33m>=\u001b[0m \u001b[0mself\u001b[0m\u001b[1;33m.\u001b[0m\u001b[0m_num_batches_for_timing_check\u001b[0m\u001b[1;33m:\u001b[0m\u001b[1;33m\u001b[0m\u001b[1;33m\u001b[0m\u001b[0m\n",
            "\u001b[1;32m~\\anaconda3\\envs\\ml\\lib\\site-packages\\tensorflow\\python\\keras\\callbacks.py\u001b[0m in \u001b[0;36m_call_batch_hook_helper\u001b[1;34m(self, hook_name, batch, logs)\u001b[0m\n\u001b[0;32m    373\u001b[0m     \u001b[1;32mfor\u001b[0m \u001b[0mcallback\u001b[0m \u001b[1;32min\u001b[0m \u001b[0mself\u001b[0m\u001b[1;33m.\u001b[0m\u001b[0mcallbacks\u001b[0m\u001b[1;33m:\u001b[0m\u001b[1;33m\u001b[0m\u001b[1;33m\u001b[0m\u001b[0m\n\u001b[0;32m    374\u001b[0m       \u001b[0mhook\u001b[0m \u001b[1;33m=\u001b[0m \u001b[0mgetattr\u001b[0m\u001b[1;33m(\u001b[0m\u001b[0mcallback\u001b[0m\u001b[1;33m,\u001b[0m \u001b[0mhook_name\u001b[0m\u001b[1;33m)\u001b[0m\u001b[1;33m\u001b[0m\u001b[1;33m\u001b[0m\u001b[0m\n\u001b[1;32m--> 375\u001b[1;33m       \u001b[0mhook\u001b[0m\u001b[1;33m(\u001b[0m\u001b[0mbatch\u001b[0m\u001b[1;33m,\u001b[0m \u001b[0mlogs\u001b[0m\u001b[1;33m)\u001b[0m\u001b[1;33m\u001b[0m\u001b[1;33m\u001b[0m\u001b[0m\n\u001b[0m\u001b[0;32m    376\u001b[0m \u001b[1;33m\u001b[0m\u001b[0m\n\u001b[0;32m    377\u001b[0m     \u001b[1;32mif\u001b[0m \u001b[0mself\u001b[0m\u001b[1;33m.\u001b[0m\u001b[0m_check_timing\u001b[0m\u001b[1;33m:\u001b[0m\u001b[1;33m\u001b[0m\u001b[1;33m\u001b[0m\u001b[0m\n",
            "\u001b[1;32m~\\anaconda3\\envs\\ml\\lib\\site-packages\\tensorflow\\python\\keras\\callbacks.py\u001b[0m in \u001b[0;36mon_train_batch_end\u001b[1;34m(self, batch, logs)\u001b[0m\n\u001b[0;32m   1027\u001b[0m \u001b[1;33m\u001b[0m\u001b[0m\n\u001b[0;32m   1028\u001b[0m   \u001b[1;32mdef\u001b[0m \u001b[0mon_train_batch_end\u001b[0m\u001b[1;33m(\u001b[0m\u001b[0mself\u001b[0m\u001b[1;33m,\u001b[0m \u001b[0mbatch\u001b[0m\u001b[1;33m,\u001b[0m \u001b[0mlogs\u001b[0m\u001b[1;33m=\u001b[0m\u001b[1;32mNone\u001b[0m\u001b[1;33m)\u001b[0m\u001b[1;33m:\u001b[0m\u001b[1;33m\u001b[0m\u001b[1;33m\u001b[0m\u001b[0m\n\u001b[1;32m-> 1029\u001b[1;33m     \u001b[0mself\u001b[0m\u001b[1;33m.\u001b[0m\u001b[0m_batch_update_progbar\u001b[0m\u001b[1;33m(\u001b[0m\u001b[0mbatch\u001b[0m\u001b[1;33m,\u001b[0m \u001b[0mlogs\u001b[0m\u001b[1;33m)\u001b[0m\u001b[1;33m\u001b[0m\u001b[1;33m\u001b[0m\u001b[0m\n\u001b[0m\u001b[0;32m   1030\u001b[0m \u001b[1;33m\u001b[0m\u001b[0m\n\u001b[0;32m   1031\u001b[0m   \u001b[1;32mdef\u001b[0m \u001b[0mon_test_batch_end\u001b[0m\u001b[1;33m(\u001b[0m\u001b[0mself\u001b[0m\u001b[1;33m,\u001b[0m \u001b[0mbatch\u001b[0m\u001b[1;33m,\u001b[0m \u001b[0mlogs\u001b[0m\u001b[1;33m=\u001b[0m\u001b[1;32mNone\u001b[0m\u001b[1;33m)\u001b[0m\u001b[1;33m:\u001b[0m\u001b[1;33m\u001b[0m\u001b[1;33m\u001b[0m\u001b[0m\n",
            "\u001b[1;32m~\\anaconda3\\envs\\ml\\lib\\site-packages\\tensorflow\\python\\keras\\callbacks.py\u001b[0m in \u001b[0;36m_batch_update_progbar\u001b[1;34m(self, batch, logs)\u001b[0m\n\u001b[0;32m   1099\u001b[0m     \u001b[1;32mif\u001b[0m \u001b[0mself\u001b[0m\u001b[1;33m.\u001b[0m\u001b[0mverbose\u001b[0m \u001b[1;33m==\u001b[0m \u001b[1;36m1\u001b[0m\u001b[1;33m:\u001b[0m\u001b[1;33m\u001b[0m\u001b[1;33m\u001b[0m\u001b[0m\n\u001b[0;32m   1100\u001b[0m       \u001b[1;31m# Only block async when verbose = 1.\u001b[0m\u001b[1;33m\u001b[0m\u001b[1;33m\u001b[0m\u001b[1;33m\u001b[0m\u001b[0m\n\u001b[1;32m-> 1101\u001b[1;33m       \u001b[0mlogs\u001b[0m \u001b[1;33m=\u001b[0m \u001b[0mtf_utils\u001b[0m\u001b[1;33m.\u001b[0m\u001b[0msync_to_numpy_or_python_type\u001b[0m\u001b[1;33m(\u001b[0m\u001b[0mlogs\u001b[0m\u001b[1;33m)\u001b[0m\u001b[1;33m\u001b[0m\u001b[1;33m\u001b[0m\u001b[0m\n\u001b[0m\u001b[0;32m   1102\u001b[0m       \u001b[0mself\u001b[0m\u001b[1;33m.\u001b[0m\u001b[0mprogbar\u001b[0m\u001b[1;33m.\u001b[0m\u001b[0mupdate\u001b[0m\u001b[1;33m(\u001b[0m\u001b[0mself\u001b[0m\u001b[1;33m.\u001b[0m\u001b[0mseen\u001b[0m\u001b[1;33m,\u001b[0m \u001b[0mlist\u001b[0m\u001b[1;33m(\u001b[0m\u001b[0mlogs\u001b[0m\u001b[1;33m.\u001b[0m\u001b[0mitems\u001b[0m\u001b[1;33m(\u001b[0m\u001b[1;33m)\u001b[0m\u001b[1;33m)\u001b[0m\u001b[1;33m,\u001b[0m \u001b[0mfinalize\u001b[0m\u001b[1;33m=\u001b[0m\u001b[1;32mFalse\u001b[0m\u001b[1;33m)\u001b[0m\u001b[1;33m\u001b[0m\u001b[1;33m\u001b[0m\u001b[0m\n\u001b[0;32m   1103\u001b[0m \u001b[1;33m\u001b[0m\u001b[0m\n",
            "\u001b[1;32m~\\anaconda3\\envs\\ml\\lib\\site-packages\\tensorflow\\python\\keras\\utils\\tf_utils.py\u001b[0m in \u001b[0;36msync_to_numpy_or_python_type\u001b[1;34m(tensors)\u001b[0m\n\u001b[0;32m    517\u001b[0m     \u001b[1;32mreturn\u001b[0m \u001b[0mt\u001b[0m  \u001b[1;31m# Don't turn ragged or sparse tensors to NumPy.\u001b[0m\u001b[1;33m\u001b[0m\u001b[1;33m\u001b[0m\u001b[0m\n\u001b[0;32m    518\u001b[0m \u001b[1;33m\u001b[0m\u001b[0m\n\u001b[1;32m--> 519\u001b[1;33m   \u001b[1;32mreturn\u001b[0m \u001b[0mnest\u001b[0m\u001b[1;33m.\u001b[0m\u001b[0mmap_structure\u001b[0m\u001b[1;33m(\u001b[0m\u001b[0m_to_single_numpy_or_python_type\u001b[0m\u001b[1;33m,\u001b[0m \u001b[0mtensors\u001b[0m\u001b[1;33m)\u001b[0m\u001b[1;33m\u001b[0m\u001b[1;33m\u001b[0m\u001b[0m\n\u001b[0m\u001b[0;32m    520\u001b[0m \u001b[1;33m\u001b[0m\u001b[0m\n\u001b[0;32m    521\u001b[0m \u001b[1;33m\u001b[0m\u001b[0m\n",
            "\u001b[1;32m~\\anaconda3\\envs\\ml\\lib\\site-packages\\tensorflow\\python\\util\\nest.py\u001b[0m in \u001b[0;36mmap_structure\u001b[1;34m(func, *structure, **kwargs)\u001b[0m\n\u001b[0;32m    865\u001b[0m \u001b[1;33m\u001b[0m\u001b[0m\n\u001b[0;32m    866\u001b[0m   return pack_sequence_as(\n\u001b[1;32m--> 867\u001b[1;33m       \u001b[0mstructure\u001b[0m\u001b[1;33m[\u001b[0m\u001b[1;36m0\u001b[0m\u001b[1;33m]\u001b[0m\u001b[1;33m,\u001b[0m \u001b[1;33m[\u001b[0m\u001b[0mfunc\u001b[0m\u001b[1;33m(\u001b[0m\u001b[1;33m*\u001b[0m\u001b[0mx\u001b[0m\u001b[1;33m)\u001b[0m \u001b[1;32mfor\u001b[0m \u001b[0mx\u001b[0m \u001b[1;32min\u001b[0m \u001b[0mentries\u001b[0m\u001b[1;33m]\u001b[0m\u001b[1;33m,\u001b[0m\u001b[1;33m\u001b[0m\u001b[1;33m\u001b[0m\u001b[0m\n\u001b[0m\u001b[0;32m    868\u001b[0m       expand_composites=expand_composites)\n\u001b[0;32m    869\u001b[0m \u001b[1;33m\u001b[0m\u001b[0m\n",
            "\u001b[1;32m~\\anaconda3\\envs\\ml\\lib\\site-packages\\tensorflow\\python\\util\\nest.py\u001b[0m in \u001b[0;36m<listcomp>\u001b[1;34m(.0)\u001b[0m\n\u001b[0;32m    865\u001b[0m \u001b[1;33m\u001b[0m\u001b[0m\n\u001b[0;32m    866\u001b[0m   return pack_sequence_as(\n\u001b[1;32m--> 867\u001b[1;33m       \u001b[0mstructure\u001b[0m\u001b[1;33m[\u001b[0m\u001b[1;36m0\u001b[0m\u001b[1;33m]\u001b[0m\u001b[1;33m,\u001b[0m \u001b[1;33m[\u001b[0m\u001b[0mfunc\u001b[0m\u001b[1;33m(\u001b[0m\u001b[1;33m*\u001b[0m\u001b[0mx\u001b[0m\u001b[1;33m)\u001b[0m \u001b[1;32mfor\u001b[0m \u001b[0mx\u001b[0m \u001b[1;32min\u001b[0m \u001b[0mentries\u001b[0m\u001b[1;33m]\u001b[0m\u001b[1;33m,\u001b[0m\u001b[1;33m\u001b[0m\u001b[1;33m\u001b[0m\u001b[0m\n\u001b[0m\u001b[0;32m    868\u001b[0m       expand_composites=expand_composites)\n\u001b[0;32m    869\u001b[0m \u001b[1;33m\u001b[0m\u001b[0m\n",
            "\u001b[1;32m~\\anaconda3\\envs\\ml\\lib\\site-packages\\tensorflow\\python\\keras\\utils\\tf_utils.py\u001b[0m in \u001b[0;36m_to_single_numpy_or_python_type\u001b[1;34m(t)\u001b[0m\n\u001b[0;32m    513\u001b[0m   \u001b[1;32mdef\u001b[0m \u001b[0m_to_single_numpy_or_python_type\u001b[0m\u001b[1;33m(\u001b[0m\u001b[0mt\u001b[0m\u001b[1;33m)\u001b[0m\u001b[1;33m:\u001b[0m\u001b[1;33m\u001b[0m\u001b[1;33m\u001b[0m\u001b[0m\n\u001b[0;32m    514\u001b[0m     \u001b[1;32mif\u001b[0m \u001b[0misinstance\u001b[0m\u001b[1;33m(\u001b[0m\u001b[0mt\u001b[0m\u001b[1;33m,\u001b[0m \u001b[0mops\u001b[0m\u001b[1;33m.\u001b[0m\u001b[0mTensor\u001b[0m\u001b[1;33m)\u001b[0m\u001b[1;33m:\u001b[0m\u001b[1;33m\u001b[0m\u001b[1;33m\u001b[0m\u001b[0m\n\u001b[1;32m--> 515\u001b[1;33m       \u001b[0mx\u001b[0m \u001b[1;33m=\u001b[0m \u001b[0mt\u001b[0m\u001b[1;33m.\u001b[0m\u001b[0mnumpy\u001b[0m\u001b[1;33m(\u001b[0m\u001b[1;33m)\u001b[0m\u001b[1;33m\u001b[0m\u001b[1;33m\u001b[0m\u001b[0m\n\u001b[0m\u001b[0;32m    516\u001b[0m       \u001b[1;32mreturn\u001b[0m \u001b[0mx\u001b[0m\u001b[1;33m.\u001b[0m\u001b[0mitem\u001b[0m\u001b[1;33m(\u001b[0m\u001b[1;33m)\u001b[0m \u001b[1;32mif\u001b[0m \u001b[0mnp\u001b[0m\u001b[1;33m.\u001b[0m\u001b[0mndim\u001b[0m\u001b[1;33m(\u001b[0m\u001b[0mx\u001b[0m\u001b[1;33m)\u001b[0m \u001b[1;33m==\u001b[0m \u001b[1;36m0\u001b[0m \u001b[1;32melse\u001b[0m \u001b[0mx\u001b[0m\u001b[1;33m\u001b[0m\u001b[1;33m\u001b[0m\u001b[0m\n\u001b[0;32m    517\u001b[0m     \u001b[1;32mreturn\u001b[0m \u001b[0mt\u001b[0m  \u001b[1;31m# Don't turn ragged or sparse tensors to NumPy.\u001b[0m\u001b[1;33m\u001b[0m\u001b[1;33m\u001b[0m\u001b[0m\n",
            "\u001b[1;32m~\\anaconda3\\envs\\ml\\lib\\site-packages\\tensorflow\\python\\framework\\ops.py\u001b[0m in \u001b[0;36mnumpy\u001b[1;34m(self)\u001b[0m\n\u001b[0;32m   1092\u001b[0m     \"\"\"\n\u001b[0;32m   1093\u001b[0m     \u001b[1;31m# TODO(slebedev): Consider avoiding a copy for non-CPU or remote tensors.\u001b[0m\u001b[1;33m\u001b[0m\u001b[1;33m\u001b[0m\u001b[1;33m\u001b[0m\u001b[0m\n\u001b[1;32m-> 1094\u001b[1;33m     \u001b[0mmaybe_arr\u001b[0m \u001b[1;33m=\u001b[0m \u001b[0mself\u001b[0m\u001b[1;33m.\u001b[0m\u001b[0m_numpy\u001b[0m\u001b[1;33m(\u001b[0m\u001b[1;33m)\u001b[0m  \u001b[1;31m# pylint: disable=protected-access\u001b[0m\u001b[1;33m\u001b[0m\u001b[1;33m\u001b[0m\u001b[0m\n\u001b[0m\u001b[0;32m   1095\u001b[0m     \u001b[1;32mreturn\u001b[0m \u001b[0mmaybe_arr\u001b[0m\u001b[1;33m.\u001b[0m\u001b[0mcopy\u001b[0m\u001b[1;33m(\u001b[0m\u001b[1;33m)\u001b[0m \u001b[1;32mif\u001b[0m \u001b[0misinstance\u001b[0m\u001b[1;33m(\u001b[0m\u001b[0mmaybe_arr\u001b[0m\u001b[1;33m,\u001b[0m \u001b[0mnp\u001b[0m\u001b[1;33m.\u001b[0m\u001b[0mndarray\u001b[0m\u001b[1;33m)\u001b[0m \u001b[1;32melse\u001b[0m \u001b[0mmaybe_arr\u001b[0m\u001b[1;33m\u001b[0m\u001b[1;33m\u001b[0m\u001b[0m\n\u001b[0;32m   1096\u001b[0m \u001b[1;33m\u001b[0m\u001b[0m\n",
            "\u001b[1;32m~\\anaconda3\\envs\\ml\\lib\\site-packages\\tensorflow\\python\\framework\\ops.py\u001b[0m in \u001b[0;36m_numpy\u001b[1;34m(self)\u001b[0m\n\u001b[0;32m   1058\u001b[0m   \u001b[1;32mdef\u001b[0m \u001b[0m_numpy\u001b[0m\u001b[1;33m(\u001b[0m\u001b[0mself\u001b[0m\u001b[1;33m)\u001b[0m\u001b[1;33m:\u001b[0m\u001b[1;33m\u001b[0m\u001b[1;33m\u001b[0m\u001b[0m\n\u001b[0;32m   1059\u001b[0m     \u001b[1;32mtry\u001b[0m\u001b[1;33m:\u001b[0m\u001b[1;33m\u001b[0m\u001b[1;33m\u001b[0m\u001b[0m\n\u001b[1;32m-> 1060\u001b[1;33m       \u001b[1;32mreturn\u001b[0m \u001b[0mself\u001b[0m\u001b[1;33m.\u001b[0m\u001b[0m_numpy_internal\u001b[0m\u001b[1;33m(\u001b[0m\u001b[1;33m)\u001b[0m\u001b[1;33m\u001b[0m\u001b[1;33m\u001b[0m\u001b[0m\n\u001b[0m\u001b[0;32m   1061\u001b[0m     \u001b[1;32mexcept\u001b[0m \u001b[0mcore\u001b[0m\u001b[1;33m.\u001b[0m\u001b[0m_NotOkStatusException\u001b[0m \u001b[1;32mas\u001b[0m \u001b[0me\u001b[0m\u001b[1;33m:\u001b[0m  \u001b[1;31m# pylint: disable=protected-access\u001b[0m\u001b[1;33m\u001b[0m\u001b[1;33m\u001b[0m\u001b[0m\n\u001b[0;32m   1062\u001b[0m       \u001b[0msix\u001b[0m\u001b[1;33m.\u001b[0m\u001b[0mraise_from\u001b[0m\u001b[1;33m(\u001b[0m\u001b[0mcore\u001b[0m\u001b[1;33m.\u001b[0m\u001b[0m_status_to_exception\u001b[0m\u001b[1;33m(\u001b[0m\u001b[0me\u001b[0m\u001b[1;33m.\u001b[0m\u001b[0mcode\u001b[0m\u001b[1;33m,\u001b[0m \u001b[0me\u001b[0m\u001b[1;33m.\u001b[0m\u001b[0mmessage\u001b[0m\u001b[1;33m)\u001b[0m\u001b[1;33m,\u001b[0m \u001b[1;32mNone\u001b[0m\u001b[1;33m)\u001b[0m  \u001b[1;31m# pylint: disable=protected-access\u001b[0m\u001b[1;33m\u001b[0m\u001b[1;33m\u001b[0m\u001b[0m\n",
            "\u001b[1;31mKeyboardInterrupt\u001b[0m: "
          ]
        }
      ],
      "metadata": {}
    },
    {
      "cell_type": "code",
      "execution_count": null,
      "source": [
        "# https://github.com/tensorflow/models/issues/9706#issuecomment-875123676\r\n",
        "\r\n",
        "recurrent_encoder = keras.models.Sequential([\r\n",
        "    embedding_layer,\r\n",
        "    keras.layers.GRU(300, return_sequences=True, input_shape=[MAX_SEQUENCE_LENGTH, EMBEDDING_DIM]),\r\n",
        "    keras.layers.GRU(100, return_sequences=True),\r\n",
        "    keras.layers.GRU(30)\r\n",
        "])\r\n",
        "recurrent_decoder = keras.models.Sequential([\r\n",
        "    keras.layers.RepeatVector(MAX_SEQUENCE_LENGTH, input_shape=[30]),\r\n",
        "    keras.layers.GRU(100, return_sequences=True),\r\n",
        "    keras.layers.GRU(300, return_sequences=True),\r\n",
        "    keras.layers.GRU(100, return_sequences=True),\r\n",
        "    keras.layers.TimeDistributed(keras.layers.Dense(EMBEDDING_DIM, activation=\"sigmoid\"))\r\n",
        "])\r\n",
        "recurrent_ae = keras.models.Sequential([recurrent_encoder, recurrent_decoder])"
      ],
      "outputs": [],
      "metadata": {
        "id": "tAY7TxWhasTQ"
      }
    },
    {
      "cell_type": "code",
      "execution_count": null,
      "source": [
        "for l in recurrent_ae.layers:\r\n",
        "    l.summary()"
      ],
      "outputs": [
        {
          "output_type": "stream",
          "name": "stdout",
          "text": [
            "Model: \"sequential_9\"\n",
            "_________________________________________________________________\n",
            "Layer (type)                 Output Shape              Param #   \n",
            "=================================================================\n",
            "embedding (Embedding)        (None, 300, 96)           1920000   \n",
            "_________________________________________________________________\n",
            "gru (GRU)                    (None, 300, 300)          358200    \n",
            "_________________________________________________________________\n",
            "gru_1 (GRU)                  (None, 300, 100)          120600    \n",
            "_________________________________________________________________\n",
            "gru_2 (GRU)                  (None, 30)                11880     \n",
            "=================================================================\n",
            "Total params: 2,410,680\n",
            "Trainable params: 490,680\n",
            "Non-trainable params: 1,920,000\n",
            "_________________________________________________________________\n",
            "Model: \"sequential_10\"\n",
            "_________________________________________________________________\n",
            "Layer (type)                 Output Shape              Param #   \n",
            "=================================================================\n",
            "repeat_vector_3 (RepeatVecto (None, 300, 30)           0         \n",
            "_________________________________________________________________\n",
            "gru_3 (GRU)                  (None, 300, 100)          39600     \n",
            "_________________________________________________________________\n",
            "gru_4 (GRU)                  (None, 300, 300)          361800    \n",
            "_________________________________________________________________\n",
            "gru_5 (GRU)                  (None, 300, 100)          120600    \n",
            "_________________________________________________________________\n",
            "time_distributed_3 (TimeDist (None, 300, 96)           9696      \n",
            "=================================================================\n",
            "Total params: 531,696\n",
            "Trainable params: 531,696\n",
            "Non-trainable params: 0\n",
            "_________________________________________________________________\n"
          ]
        }
      ],
      "metadata": {}
    },
    {
      "cell_type": "code",
      "execution_count": null,
      "source": [
        "recurrent_ae.compile(optimizer='adam', loss='binary_crossentropy', metrics='accuracy')"
      ],
      "outputs": [],
      "metadata": {
        "id": "o7_29Phadzp6"
      }
    },
    {
      "cell_type": "code",
      "execution_count": null,
      "source": [
        "# recurrent_ae.fit(x=train_ae, y=embedding_layer(train_ae), epochs=5)"
      ],
      "outputs": [],
      "metadata": {
        "id": "B11FvqJoddIO"
      }
    },
    {
      "cell_type": "code",
      "execution_count": null,
      "source": [],
      "outputs": [],
      "metadata": {
        "id": "f74MicL_di74"
      }
    }
  ]
}